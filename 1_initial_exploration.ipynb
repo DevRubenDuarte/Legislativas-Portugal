{
 "cells": [
  {
   "cell_type": "code",
   "execution_count": 1,
   "metadata": {},
   "outputs": [],
   "source": [
    "import pandas as pd\n",
    "import numpy as np"
   ]
  },
  {
   "cell_type": "code",
   "execution_count": 2,
   "metadata": {},
   "outputs": [
    {
     "data": {
      "text/html": [
       "<div>\n",
       "<style scoped>\n",
       "    .dataframe tbody tr th:only-of-type {\n",
       "        vertical-align: middle;\n",
       "    }\n",
       "\n",
       "    .dataframe tbody tr th {\n",
       "        vertical-align: top;\n",
       "    }\n",
       "\n",
       "    .dataframe thead th {\n",
       "        text-align: right;\n",
       "    }\n",
       "</style>\n",
       "<table border=\"1\" class=\"dataframe\">\n",
       "  <thead>\n",
       "    <tr style=\"text-align: right;\">\n",
       "      <th></th>\n",
       "      <th>codigo</th>\n",
       "      <th>nome</th>\n",
       "      <th>tipo</th>\n",
       "      <th>data</th>\n",
       "      <th>partido</th>\n",
       "      <th>num_votos</th>\n",
       "      <th>perc_votos</th>\n",
       "      <th>mandatos</th>\n",
       "    </tr>\n",
       "  </thead>\n",
       "  <tbody>\n",
       "    <tr>\n",
       "      <th>2253</th>\n",
       "      <td>20000</td>\n",
       "      <td>Beja</td>\n",
       "      <td>AR</td>\n",
       "      <td>2002-03-17</td>\n",
       "      <td>PS</td>\n",
       "      <td>35814</td>\n",
       "      <td>43.54</td>\n",
       "      <td>2</td>\n",
       "    </tr>\n",
       "    <tr>\n",
       "      <th>3070</th>\n",
       "      <td>70000</td>\n",
       "      <td>Évora</td>\n",
       "      <td>AR</td>\n",
       "      <td>2011-06-05</td>\n",
       "      <td>CDU</td>\n",
       "      <td>18967</td>\n",
       "      <td>22.02</td>\n",
       "      <td>1</td>\n",
       "    </tr>\n",
       "    <tr>\n",
       "      <th>428</th>\n",
       "      <td>160000</td>\n",
       "      <td>Viana do Castelo</td>\n",
       "      <td>AR</td>\n",
       "      <td>1976-04-25</td>\n",
       "      <td>FSP</td>\n",
       "      <td>1314</td>\n",
       "      <td>1.01</td>\n",
       "      <td>0</td>\n",
       "    </tr>\n",
       "    <tr>\n",
       "      <th>2802</th>\n",
       "      <td>100000</td>\n",
       "      <td>Leiria</td>\n",
       "      <td>AR</td>\n",
       "      <td>2009-09-27</td>\n",
       "      <td>CDS-PP</td>\n",
       "      <td>30980</td>\n",
       "      <td>12.55</td>\n",
       "      <td>1</td>\n",
       "    </tr>\n",
       "    <tr>\n",
       "      <th>2912</th>\n",
       "      <td>170000</td>\n",
       "      <td>Vila Real</td>\n",
       "      <td>AR</td>\n",
       "      <td>2009-09-27</td>\n",
       "      <td>CDS-PP</td>\n",
       "      <td>12728</td>\n",
       "      <td>10.09</td>\n",
       "      <td>0</td>\n",
       "    </tr>\n",
       "    <tr>\n",
       "      <th>2022</th>\n",
       "      <td>170000</td>\n",
       "      <td>Vila Real</td>\n",
       "      <td>AR</td>\n",
       "      <td>1995-10-01</td>\n",
       "      <td>PSN</td>\n",
       "      <td>528</td>\n",
       "      <td>0.40</td>\n",
       "      <td>0</td>\n",
       "    </tr>\n",
       "    <tr>\n",
       "      <th>2137</th>\n",
       "      <td>90000</td>\n",
       "      <td>Guarda</td>\n",
       "      <td>AR</td>\n",
       "      <td>1999-10-10</td>\n",
       "      <td>CDU</td>\n",
       "      <td>3228</td>\n",
       "      <td>3.16</td>\n",
       "      <td>0</td>\n",
       "    </tr>\n",
       "    <tr>\n",
       "      <th>1440</th>\n",
       "      <td>750040</td>\n",
       "      <td>Europa</td>\n",
       "      <td>AR</td>\n",
       "      <td>1987-07-19</td>\n",
       "      <td>CDS</td>\n",
       "      <td>1278</td>\n",
       "      <td>6.64</td>\n",
       "      <td>0</td>\n",
       "    </tr>\n",
       "    <tr>\n",
       "      <th>324</th>\n",
       "      <td>90000</td>\n",
       "      <td>Guarda</td>\n",
       "      <td>AR</td>\n",
       "      <td>1976-04-25</td>\n",
       "      <td>PPD</td>\n",
       "      <td>31307</td>\n",
       "      <td>25.65</td>\n",
       "      <td>2</td>\n",
       "    </tr>\n",
       "    <tr>\n",
       "      <th>1065</th>\n",
       "      <td>140000</td>\n",
       "      <td>Santarém</td>\n",
       "      <td>AR</td>\n",
       "      <td>1983-04-25</td>\n",
       "      <td>LST</td>\n",
       "      <td>592</td>\n",
       "      <td>0.22</td>\n",
       "      <td>0</td>\n",
       "    </tr>\n",
       "  </tbody>\n",
       "</table>\n",
       "</div>"
      ],
      "text/plain": [
       "      codigo              nome tipo        data partido  num_votos  \\\n",
       "2253   20000              Beja   AR  2002-03-17      PS      35814   \n",
       "3070   70000             Évora   AR  2011-06-05     CDU      18967   \n",
       "428   160000  Viana do Castelo   AR  1976-04-25     FSP       1314   \n",
       "2802  100000            Leiria   AR  2009-09-27  CDS-PP      30980   \n",
       "2912  170000         Vila Real   AR  2009-09-27  CDS-PP      12728   \n",
       "2022  170000         Vila Real   AR  1995-10-01     PSN        528   \n",
       "2137   90000            Guarda   AR  1999-10-10     CDU       3228   \n",
       "1440  750040            Europa   AR  1987-07-19     CDS       1278   \n",
       "324    90000            Guarda   AR  1976-04-25     PPD      31307   \n",
       "1065  140000          Santarém   AR  1983-04-25     LST        592   \n",
       "\n",
       "      perc_votos  mandatos  \n",
       "2253       43.54         2  \n",
       "3070       22.02         1  \n",
       "428         1.01         0  \n",
       "2802       12.55         1  \n",
       "2912       10.09         0  \n",
       "2022        0.40         0  \n",
       "2137        3.16         0  \n",
       "1440        6.64         0  \n",
       "324        25.65         2  \n",
       "1065        0.22         0  "
      ]
     },
     "execution_count": 2,
     "metadata": {},
     "output_type": "execute_result"
    }
   ],
   "source": [
    "ep = pd.read_csv('datasets\\\\resultados-legislativas-passadas.csv') #ep - Eleições Passadas\n",
    "ep.sample(10)"
   ]
  },
  {
   "cell_type": "code",
   "execution_count": 5,
   "metadata": {},
   "outputs": [
    {
     "data": {
      "text/plain": [
       "array(['1975-04-25', '1976-04-25', '1979-12-02', '1980-10-05',\n",
       "       '1983-04-25', '1985-10-06', '1987-07-19', '1991-10-06',\n",
       "       '1995-10-01', '1999-10-10', '2002-03-17', '2005-02-20',\n",
       "       '2009-09-27', '2011-06-05'], dtype=object)"
      ]
     },
     "execution_count": 5,
     "metadata": {},
     "output_type": "execute_result"
    }
   ],
   "source": [
    "# Create subdatasets on election year\n",
    "ae = pd.unique(ep['data']) # ae - Anos de Eleições\n",
    "gb = ep.groupby(['data']) # gb - groupby group\n",
    "ae"
   ]
  },
  {
   "cell_type": "code",
   "execution_count": 17,
   "metadata": {},
   "outputs": [],
   "source": [
    "# Export subdatasets as .csv\n",
    "for x in ae:\n",
    "    gbx = gb.get_group((x,))\n",
    "    gbx.to_csv('datasets\\\\ano\\\\' + x + '.csv')"
   ]
  },
  {
   "cell_type": "code",
   "execution_count": 26,
   "metadata": {},
   "outputs": [
    {
     "name": "stdout",
     "output_type": "stream",
     "text": [
      "373\n",
      "287\n",
      "270\n",
      "267\n",
      "256\n",
      "239\n",
      "216\n",
      "212\n",
      "206\n",
      "204\n",
      "202\n",
      "198\n",
      "193\n",
      "183\n"
     ]
    }
   ],
   "source": []
  },
  {
   "cell_type": "code",
   "execution_count": null,
   "metadata": {},
   "outputs": [],
   "source": [
    "\n"
   ]
  }
 ],
 "metadata": {
  "kernelspec": {
   "display_name": "Python 3",
   "language": "python",
   "name": "python3"
  },
  "language_info": {
   "codemirror_mode": {
    "name": "ipython",
    "version": 3
   },
   "file_extension": ".py",
   "mimetype": "text/x-python",
   "name": "python",
   "nbconvert_exporter": "python",
   "pygments_lexer": "ipython3",
   "version": "3.12.2"
  }
 },
 "nbformat": 4,
 "nbformat_minor": 2
}
