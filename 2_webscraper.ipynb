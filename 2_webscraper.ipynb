{
 "cells": [
  {
   "cell_type": "markdown",
   "metadata": {},
   "source": [
    "## Context\n",
    "The previous dataset didn't provide the sufficient details for the feature.\n",
    "This web scraper will create a dataset with the results for each party in each parish ('parish') in Portugal (inland and autonomous territories) as well as the votes from the Europe and Outside of Europe circles"
   ]
  },
  {
   "cell_type": "markdown",
   "metadata": {},
   "source": [
    "### Running this Notebook\n",
    "You can run all cells to get the full dataset, or execute group 1 or 2 in separate\n",
    "\n",
    "- Group 1 - National Territory (3.000+ files, can take some minutes to run)\n",
    "- Group 2 - Europe and Out of Europe"
   ]
  },
  {
   "cell_type": "markdown",
   "metadata": {},
   "source": [
    "### Setup"
   ]
  },
  {
   "cell_type": "code",
   "execution_count": null,
   "metadata": {
    "notebookRunGroups": {
     "groupValue": "12"
    }
   },
   "outputs": [],
   "source": [
    "#%pip install pandas\n",
    "import pandas as pd\n",
    "import os"
   ]
  },
  {
   "cell_type": "code",
   "execution_count": null,
   "metadata": {
    "notebookRunGroups": {
     "groupValue": "21"
    }
   },
   "outputs": [],
   "source": [
    "# Base url\n",
    "    # There are two sites, they sometimes shift the base url:\n",
    "# site = 'https://www.legislativas2024.mai.gov.pt/assets/static'\n",
    "site = 'https://www.eleicoes.mai.gov.pt/legislativas2024/assets/static'\n",
    "\n",
    "# Local path\n",
    "tchild = site +'/territory-children/territory-children-' # children territory codes url\n",
    "tresult = site +'/territory-results/territory-results-' # voting results url\n",
    "\n",
    "portugal =      {   # Portugal parent\n",
    "                    'compensation': [False], \n",
    "                    'name': ['Portugal'], \n",
    "                    'territoryKey': ['LOCAL-500000'],\n",
    "                    'district': False,\n",
    "                    'county': False,\n",
    "                    'level': ['pais']\n",
    "}\n",
    "\n",
    "foreign =       {   # Foreign territories parent\n",
    "                    'compensation': [False], \n",
    "                    'name': ['Estrangeiro'], \n",
    "                    'territoryKey': ['FOREIGN-600000'],\n",
    "                    'district': False,\n",
    "                    'county': False,\n",
    "                    'level': ['pais']\n",
    "}\n",
    "\n",
    "parish_dict =   {   # Necessary translation due to the \"/\" character in the names\n",
    "                    'Longueira/Almograve': 'Longueira, Almograve',\n",
    "                    'Alverca da Beira/Bouça Cova': 'Alverca da Beira, Bouça Cova',\n",
    "                    'Valbom/Bogalhal': 'Valbom, Bogalhal',\n",
    "                    'Santa Cruz/Trindade e Sanjurge': 'Santa Cruz, Trindade e Sanjurge',\n",
    "                    'Vila Cova do Covelo/Mareco': 'Vila Cova do Covelo, Mareco'\n",
    "}\n",
    "\n",
    "codes = pd.DataFrame(portugal) # creates codes dataframe, and populates with highest-tier level"
   ]
  },
  {
   "cell_type": "markdown",
   "metadata": {},
   "source": [
    "### Methods"
   ]
  },
  {
   "cell_type": "code",
   "execution_count": null,
   "metadata": {
    "notebookRunGroups": {
     "groupValue": "12"
    }
   },
   "outputs": [],
   "source": [
    "# Saves children json from url          \n",
    "def get_children(territoryKey):\n",
    "    url = tchild + territoryKey + '.json'\n",
    "    return pd.read_json(url)\n",
    "\n",
    "# Saves result json from url\n",
    "def get_result(territoryKey):\n",
    "    url = tresult + territoryKey + '-AR.json'\n",
    "    return pd.read_json(url)\n",
    "\n",
    "# Populates codes dataframe\n",
    "def get_codes(row, district, county, level):\n",
    "    return  {\n",
    "                'compensation':     row['compensation'],\n",
    "                'name':             row['name'], \n",
    "                'territoryKey':     row['territoryKey'],\n",
    "                'district':         district,\n",
    "                'county':           county,\n",
    "                'level':            level\n",
    "            }\n",
    "\n",
    "# Creates directories\n",
    "def mkdir(lv2_codes):\n",
    "    for row in lv2_codes.iterrows():\n",
    "        tkey = row[1]['territoryKey']\n",
    "        dist = row[1]['district']\n",
    "        county = row[1]['name']\n",
    "        loc = tkey.split('-')[0].capitalize()\n",
    "\n",
    "        path = '/datasets/crawler/' + loc + '/' + dist + '/' + county + '/'\n",
    "\n",
    "        working_dir = os.getcwd()\n",
    "        newpath = working_dir + path\n",
    "\n",
    "        if not os.path.exists(newpath):\n",
    "            os.makedirs(newpath)"
   ]
  },
  {
   "cell_type": "code",
   "execution_count": null,
   "metadata": {
    "notebookRunGroups": {
     "groupValue": "12"
    }
   },
   "outputs": [],
   "source": [
    "# Drill down to districts\n",
    "def drill_lv1(parent_lv0_codes):\n",
    "    tkey = parent_lv0_codes['territoryKey'][0]\n",
    "    districts = get_children(tkey)\n",
    "\n",
    "    return pd.DataFrame(get_codes(districts, False, False, 'district'))\n",
    "\n",
    "# Drill down to counties\n",
    "def drill_lv2(parent_lv1_codes):\n",
    "    county_codes = pd.DataFrame()\n",
    "\n",
    "\n",
    "    for row in parent_lv1_codes.iterrows():\n",
    "        tkey = row[1]['territoryKey']\n",
    "        dist = row[1]['name']\n",
    "        county = False\n",
    "        \n",
    "        counties = get_children(tkey)\n",
    "        codes = pd.DataFrame(get_codes(counties, dist, county, 'county'))\n",
    "        county_codes = pd.concat([county_codes, codes])\n",
    "\n",
    "    return county_codes.reset_index(drop=True)\n",
    "\n",
    "# Drill down to parishes\n",
    "def drill_lv3(parent_lv2_codes):\n",
    "    parish_codes = pd.DataFrame()\n",
    "\n",
    "    for row in parent_lv2_codes.iterrows():\n",
    "        tkey = row[1]['territoryKey']\n",
    "        dist = row[1]['district']\n",
    "        county = row[1]['name']\n",
    "        \n",
    "        parishes = get_children(tkey)\n",
    "        codes = pd.DataFrame(get_codes(parishes, dist, county, 'parish'))\n",
    "        parish_codes = pd.concat([parish_codes, codes])\n",
    "\n",
    "    return parish_codes.reset_index(drop=True)\n",
    "\n",
    "# Saves the results\n",
    "def save_results(parent_lv3_codes):\n",
    "\n",
    "    for row in parent_lv3_codes.iterrows():\n",
    "        tkey = row[1]['territoryKey']\n",
    "        dist = row[1]['district']\n",
    "        county = row[1]['county']\n",
    "        parish = row[1]['name']\n",
    "        \n",
    "        result = pd.DataFrame(get_result(tkey))\n",
    "        result.index.name = 'index'\n",
    "        \n",
    "        loc = tkey.split('-')[0].capitalize()\n",
    "        path = 'datasets/crawler/' + loc + '/' + dist + '/' + county + '/'  + parish + '.csv'\n",
    "                \n",
    "        result.to_csv(path)\n",
    "\n",
    "# Saves the codes\n",
    "def save_codes(codes):\n",
    "    loc = codes['territoryKey'][0].split('-')[0].lower()\n",
    "    path = 'datasets/crawler/' + loc + '_codes.csv'\n",
    "    codes = (\n",
    "        codes.drop(columns=['level', 'compensation'])\n",
    "        .rename(columns={'name': 'parish'})\n",
    "        .reindex(columns=['territoryKey', 'parish', 'county', 'district'])\n",
    "        .set_index('territoryKey')\n",
    "        .to_csv(path)\n",
    "    )\n",
    "    "
   ]
  },
  {
   "cell_type": "markdown",
   "metadata": {},
   "source": [
    "### Scraping National Territory"
   ]
  },
  {
   "cell_type": "code",
   "execution_count": null,
   "metadata": {
    "notebookRunGroups": {
     "groupValue": "1"
    }
   },
   "outputs": [],
   "source": [
    "districts = drill_lv1(portugal)\n",
    "districts"
   ]
  },
  {
   "cell_type": "code",
   "execution_count": null,
   "metadata": {
    "notebookRunGroups": {
     "groupValue": "1"
    }
   },
   "outputs": [],
   "source": [
    "counties = drill_lv2(districts)\n",
    "counties"
   ]
  },
  {
   "cell_type": "code",
   "execution_count": null,
   "metadata": {
    "notebookRunGroups": {
     "groupValue": "1"
    }
   },
   "outputs": [],
   "source": [
    "mkdir(counties)"
   ]
  },
  {
   "cell_type": "code",
   "execution_count": null,
   "metadata": {
    "notebookRunGroups": {
     "groupValue": "1"
    }
   },
   "outputs": [],
   "source": [
    "parishes = (\n",
    "    drill_lv3(counties)\n",
    "    .replace(parish_dict)\n",
    "    .reset_index(drop=True)\n",
    ")\n",
    "\n",
    "parishes"
   ]
  },
  {
   "cell_type": "code",
   "execution_count": null,
   "metadata": {
    "notebookRunGroups": {
     "groupValue": "1"
    }
   },
   "outputs": [],
   "source": [
    "save_codes(parishes)"
   ]
  },
  {
   "cell_type": "code",
   "execution_count": null,
   "metadata": {
    "notebookRunGroups": {
     "groupValue": "1"
    }
   },
   "outputs": [],
   "source": [
    "save_results(parishes)"
   ]
  },
  {
   "cell_type": "markdown",
   "metadata": {},
   "source": [
    "### Scraping Europe and Out of Europe"
   ]
  },
  {
   "cell_type": "code",
   "execution_count": null,
   "metadata": {
    "notebookRunGroups": {
     "groupValue": "2"
    }
   },
   "outputs": [],
   "source": [
    "circles = drill_lv1(foreign)\n",
    "circles"
   ]
  },
  {
   "cell_type": "code",
   "execution_count": null,
   "metadata": {
    "notebookRunGroups": {
     "groupValue": "2"
    }
   },
   "outputs": [],
   "source": [
    "countries = drill_lv2(circles)\n",
    "countries"
   ]
  },
  {
   "cell_type": "code",
   "execution_count": null,
   "metadata": {
    "notebookRunGroups": {
     "groupValue": "2"
    }
   },
   "outputs": [],
   "source": [
    "#Creates directories\n",
    "mkdir(countries)"
   ]
  },
  {
   "cell_type": "code",
   "execution_count": null,
   "metadata": {
    "notebookRunGroups": {
     "groupValue": "2"
    }
   },
   "outputs": [],
   "source": [
    "embassies = drill_lv3(countries)\n",
    "embassies"
   ]
  },
  {
   "cell_type": "code",
   "execution_count": null,
   "metadata": {
    "notebookRunGroups": {
     "groupValue": "2"
    }
   },
   "outputs": [],
   "source": [
    "save_codes(embassies)"
   ]
  },
  {
   "cell_type": "code",
   "execution_count": null,
   "metadata": {
    "notebookRunGroups": {
     "groupValue": "2"
    }
   },
   "outputs": [],
   "source": [
    "save_results(embassies)"
   ]
  }
 ],
 "metadata": {
  "kernelspec": {
   "display_name": "Python 3",
   "language": "python",
   "name": "python3"
  },
  "language_info": {
   "codemirror_mode": {
    "name": "ipython",
    "version": 3
   },
   "file_extension": ".py",
   "mimetype": "text/x-python",
   "name": "python",
   "nbconvert_exporter": "python",
   "pygments_lexer": "ipython3",
   "version": "3.11.8"
  }
 },
 "nbformat": 4,
 "nbformat_minor": 2
}
