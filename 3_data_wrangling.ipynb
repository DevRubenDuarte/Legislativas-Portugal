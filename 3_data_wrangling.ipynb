{
 "cells": [
  {
   "cell_type": "markdown",
   "metadata": {},
   "source": [
    "### Setup"
   ]
  },
  {
   "cell_type": "code",
   "execution_count": null,
   "metadata": {
    "notebookRunGroups": {
     "groupValue": "12"
    }
   },
   "outputs": [],
   "source": [
    "import pandas as pd\n",
    "import ast\n",
    "import os"
   ]
  },
  {
   "cell_type": "code",
   "execution_count": null,
   "metadata": {
    "notebookRunGroups": {
     "groupValue": "1"
    }
   },
   "outputs": [],
   "source": [
    "local = pd.read_csv('datasets/crawler/local_codes.csv')\n",
    "foreign = pd.read_csv('datasets/crawler/foreign_codes.csv')\n",
    "codes = (\n",
    "    pd.concat([local, foreign])\n",
    "    .rename(columns={'name': 'freguesia'})\n",
    "    .reset_index(drop=True)\n",
    ")"
   ]
  },
  {
   "cell_type": "markdown",
   "metadata": {},
   "source": [
    "### Methods"
   ]
  },
  {
   "cell_type": "code",
   "execution_count": null,
   "metadata": {
    "notebookRunGroups": {
     "groupValue": "1"
    }
   },
   "outputs": [],
   "source": [
    "# Returns resuts table df\n",
    "def getResultsTable(file):\n",
    "    resultsParty = file.loc['resultsParty', 'currentResults']\n",
    "\n",
    "    results = (\n",
    "        pd.DataFrame(ast.literal_eval(resultsParty))\n",
    "        .drop(['absoluteMajority', 'constituenctyCounter', 'imageKey', 'mandates', 'presidents'], axis=1)\n",
    "        .rename(columns={'acronym': 'party'})\n",
    "        .set_index('party')\n",
    "    )\n",
    "\n",
    "    return results\n",
    "\n",
    "# Returns metadata df\n",
    "def getResults(file, row):\n",
    "    md = pd.Series(file['currentResults'])\n",
    "    md.index.name = None\n",
    "    md = (\n",
    "        md.drop(['availableMandates', 'compensation', 'displayMessage', 'hasNoVoting', 'resultsParty'\n",
    "            , 'tie', 'tieMessage', 'totalBoycotts', 'totalForeignBoycotts', 'totalLocalBoycotts'\n",
    "            , 'totalMandates', 'totalParishesApproved'])\n",
    "        .to_frame()\n",
    "        .T\n",
    "        .assign(territoryKey = row['territoryKey'])\n",
    "        .set_index('territoryKey')\n",
    "    )\n",
    "    \n",
    "    loc = (\n",
    "        pd.DataFrame(\n",
    "            [row['parish'], row['county'], row['district'], row['territoryKey']], index=['parish', 'county', 'district', 'territoryKey'])\n",
    "        .T\n",
    "        .set_index('territoryKey')\n",
    "    )\n",
    "    \n",
    "    r = getResultsTable(file)\n",
    "    r['territoryKey'], r['parish'] = row['territoryKey'], row['parish']\n",
    "    r = r.reset_index().set_index(['territoryKey', 'party'])\n",
    "\n",
    "    return r, md, loc\n",
    "\n",
    "# Creates directories\n",
    "def mkdir():\n",
    "        path = '/datasets/results/' \n",
    "\n",
    "        working_dir = os.getcwd()\n",
    "        newpath = working_dir + path\n",
    "\n",
    "        if not os.path.exists(newpath):\n",
    "            os.makedirs(newpath)"
   ]
  },
  {
   "cell_type": "markdown",
   "metadata": {},
   "source": [
    "#### Teste"
   ]
  },
  {
   "cell_type": "code",
   "execution_count": null,
   "metadata": {},
   "outputs": [],
   "source": [
    "# row = codes.iloc[0]\n",
    "# results = pd.DataFrame()\n",
    "# metadata = pd.DataFrame()\n",
    "# location = pd.DataFrame()\n",
    "\n",
    "# loc = row['territoryKey'].split('-')[0].capitalize()\n",
    "# file = (\n",
    "#     pd.read_csv('datasets/crawler/' + loc + '/' + row['district'] + '/' + row['county'] + '/' + row['parish'] + '.csv')\n",
    "#     .set_index('index')\n",
    "# )\n",
    "\n",
    "# md = pd.Series(file['currentResults'])\n",
    "# md.index.name = None\n",
    "# md = (\n",
    "#     md.drop(['availableMandates', 'compensation', 'displayMessage', 'hasNoVoting', 'resultsParty'\n",
    "#         , 'tie', 'tieMessage', 'totalBoycotts', 'totalForeignBoycotts', 'totalLocalBoycotts'\n",
    "#         , 'totalMandates', 'totalParishesApproved'])\n",
    "#     .to_frame()\n",
    "#     .T\n",
    "#     .assign(territoryKey = row['territoryKey'])\n",
    "#     .set_index('territoryKey')\n",
    "# )\n",
    "\n",
    "# md\n"
   ]
  },
  {
   "cell_type": "markdown",
   "metadata": {},
   "source": [
    "### Create Results files"
   ]
  },
  {
   "cell_type": "code",
   "execution_count": null,
   "metadata": {
    "notebookRunGroups": {
     "groupValue": "1"
    }
   },
   "outputs": [],
   "source": [
    "results = pd.DataFrame()\n",
    "metadata = pd.DataFrame()\n",
    "location = pd.DataFrame()\n",
    "\n",
    "for i, row in codes.iterrows():\n",
    "    file = (\n",
    "        pd.read_csv('datasets/crawler/' + row['territoryKey'].split('-')[0].capitalize() + '/' + row['district'] + '/' + row['county'] + '/' + row['parish'] + '.csv')\n",
    "        .set_index('index')\n",
    "    )\n",
    "    \n",
    "    r, md, loc = getResults(file, row)\n",
    "\n",
    "    results = pd.concat([results, r])    \n",
    "    metadata = pd.concat([metadata, md])\n",
    "    location = pd.concat([location, loc])"
   ]
  },
  {
   "cell_type": "code",
   "execution_count": null,
   "metadata": {
    "notebookRunGroups": {
     "groupValue": "1"
    }
   },
   "outputs": [],
   "source": [
    "mkdir()\n",
    "\n",
    "results.to_csv('datasets/results/results.csv')\n",
    "metadata.to_csv('datasets/results/metadata.csv')\n",
    "location.to_csv('datasets/results/location.csv')"
   ]
  },
  {
   "cell_type": "markdown",
   "metadata": {},
   "source": [
    "### Explore Data"
   ]
  },
  {
   "cell_type": "code",
   "execution_count": null,
   "metadata": {
    "notebookRunGroups": {
     "groupValue": "2"
    }
   },
   "outputs": [],
   "source": [
    "results = pd.read_csv('datasets/results/results.csv')\n",
    "metadata = pd.read_csv('datasets/results/metadata.csv')\n",
    "\n",
    "parties = results['party'].unique()\n",
    "results = results.set_index(['parish', 'party'])\n",
    "\n",
    "idx = pd.IndexSlice"
   ]
  },
  {
   "cell_type": "code",
   "execution_count": null,
   "metadata": {},
   "outputs": [],
   "source": [
    "results.loc['Angra (Sé)', 'PS']"
   ]
  },
  {
   "cell_type": "code",
   "execution_count": null,
   "metadata": {},
   "outputs": [],
   "source": [
    "# Results by Party\n",
    "# for i, party in parties:\n",
    "#     results.loc[idx[:, party], idx[:]]"
   ]
  },
  {
   "cell_type": "markdown",
   "metadata": {},
   "source": [
    "## Database"
   ]
  },
  {
   "cell_type": "code",
   "execution_count": null,
   "metadata": {},
   "outputs": [],
   "source": [
    "# results\n",
    "# metadata\n"
   ]
  },
  {
   "cell_type": "code",
   "execution_count": null,
   "metadata": {},
   "outputs": [],
   "source": [
    "# # Send to SQL\n",
    "# import mysql.connector\n",
    "# from dotenv import load_dotenv\n",
    "\n",
    "# load_dotenv()\n",
    "# user = os.getenv('USER')\n",
    "# password = os.getenv('PW')\n",
    "\n",
    "# cnx = mysql.connector.connect(\n",
    "#     user=user,\n",
    "#     password=password,\n",
    "#     host=\"localhost\",\n",
    "#     database=\"legislativas\"\n",
    "# )\n",
    "\n",
    "\n"
   ]
  }
 ],
 "metadata": {
  "kernelspec": {
   "display_name": "Python 3",
   "language": "python",
   "name": "python3"
  },
  "language_info": {
   "codemirror_mode": {
    "name": "ipython",
    "version": 3
   },
   "file_extension": ".py",
   "mimetype": "text/x-python",
   "name": "python",
   "nbconvert_exporter": "python",
   "pygments_lexer": "ipython3",
   "version": "3.11.8"
  }
 },
 "nbformat": 4,
 "nbformat_minor": 2
}
