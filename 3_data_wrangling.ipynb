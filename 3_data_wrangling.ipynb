{
 "cells": [
  {
   "cell_type": "code",
   "execution_count": 1,
   "metadata": {},
   "outputs": [],
   "source": [
    "import pandas as pd\n",
    "import numpy as np"
   ]
  },
  {
   "cell_type": "code",
   "execution_count": 2,
   "metadata": {},
   "outputs": [],
   "source": [
    "def transform(file):\n",
    "    r = pd.DataFrame()\n",
    "    r['index'] = file['Unnamed: 0']\n",
    "    r['resultados_24'] = file['currentResults']\n",
    "\n",
    "    d = {\n",
    "        'territoryKey': file[0].territoryKey,\n",
    "        'território': file[0].territoryFullName,\n",
    "        'resultados': r\n",
    "    }\n",
    "\n",
    "    row = pd.DataFrame(data=d, index='territoryKey')\n",
    "\n",
    "    return row"
   ]
  },
  {
   "cell_type": "code",
   "execution_count": 3,
   "metadata": {},
   "outputs": [
    {
     "data": {
      "text/html": [
       "<div>\n",
       "<style scoped>\n",
       "    .dataframe tbody tr th:only-of-type {\n",
       "        vertical-align: middle;\n",
       "    }\n",
       "\n",
       "    .dataframe tbody tr th {\n",
       "        vertical-align: top;\n",
       "    }\n",
       "\n",
       "    .dataframe thead th {\n",
       "        text-align: right;\n",
       "    }\n",
       "</style>\n",
       "<table border=\"1\" class=\"dataframe\">\n",
       "  <thead>\n",
       "    <tr style=\"text-align: right;\">\n",
       "      <th></th>\n",
       "      <th>territoryKey</th>\n",
       "      <th>freguesia</th>\n",
       "      <th>concelho</th>\n",
       "      <th>distrito</th>\n",
       "    </tr>\n",
       "  </thead>\n",
       "  <tbody>\n",
       "    <tr>\n",
       "      <th>0</th>\n",
       "      <td>LOCAL-430101</td>\n",
       "      <td>Altares</td>\n",
       "      <td>Angra do Heroísmo</td>\n",
       "      <td>Açores</td>\n",
       "    </tr>\n",
       "    <tr>\n",
       "      <th>1</th>\n",
       "      <td>LOCAL-430102</td>\n",
       "      <td>Angra (Nossa Senhora da Conceição)</td>\n",
       "      <td>Angra do Heroísmo</td>\n",
       "      <td>Açores</td>\n",
       "    </tr>\n",
       "    <tr>\n",
       "      <th>2</th>\n",
       "      <td>LOCAL-430103</td>\n",
       "      <td>Angra (Santa Luzia)</td>\n",
       "      <td>Angra do Heroísmo</td>\n",
       "      <td>Açores</td>\n",
       "    </tr>\n",
       "    <tr>\n",
       "      <th>3</th>\n",
       "      <td>LOCAL-430104</td>\n",
       "      <td>Angra (São Pedro)</td>\n",
       "      <td>Angra do Heroísmo</td>\n",
       "      <td>Açores</td>\n",
       "    </tr>\n",
       "    <tr>\n",
       "      <th>4</th>\n",
       "      <td>LOCAL-430105</td>\n",
       "      <td>Angra (Sé)</td>\n",
       "      <td>Angra do Heroísmo</td>\n",
       "      <td>Açores</td>\n",
       "    </tr>\n",
       "    <tr>\n",
       "      <th>...</th>\n",
       "      <td>...</td>\n",
       "      <td>...</td>\n",
       "      <td>...</td>\n",
       "      <td>...</td>\n",
       "    </tr>\n",
       "    <tr>\n",
       "      <th>19</th>\n",
       "      <td>FOREIGN-930299</td>\n",
       "      <td>Postos Consulares da China</td>\n",
       "      <td>China</td>\n",
       "      <td>Fora da Europa</td>\n",
       "    </tr>\n",
       "    <tr>\n",
       "      <th>20</th>\n",
       "      <td>FOREIGN-920799</td>\n",
       "      <td>Postos Consulares dos Estados Unidos da América</td>\n",
       "      <td>Estados Unidos da América</td>\n",
       "      <td>Fora da Europa</td>\n",
       "    </tr>\n",
       "    <tr>\n",
       "      <th>21</th>\n",
       "      <td>FOREIGN-919999</td>\n",
       "      <td>Postos Consulares dos países de África</td>\n",
       "      <td>Países de África</td>\n",
       "      <td>Fora da Europa</td>\n",
       "    </tr>\n",
       "    <tr>\n",
       "      <th>22</th>\n",
       "      <td>FOREIGN-929999</td>\n",
       "      <td>Restantes Postos Consulares Dos Países da América</td>\n",
       "      <td>Restantes Países da América</td>\n",
       "      <td>Fora da Europa</td>\n",
       "    </tr>\n",
       "    <tr>\n",
       "      <th>23</th>\n",
       "      <td>FOREIGN-939999</td>\n",
       "      <td>Restantes Postos Consulares Dos Países da Ásia...</td>\n",
       "      <td>Restantes Países da Ásia e Oceânia</td>\n",
       "      <td>Fora da Europa</td>\n",
       "    </tr>\n",
       "  </tbody>\n",
       "</table>\n",
       "<p>3116 rows × 4 columns</p>\n",
       "</div>"
      ],
      "text/plain": [
       "      territoryKey                                          freguesia  \\\n",
       "0     LOCAL-430101                                            Altares   \n",
       "1     LOCAL-430102                 Angra (Nossa Senhora da Conceição)   \n",
       "2     LOCAL-430103                                Angra (Santa Luzia)   \n",
       "3     LOCAL-430104                                  Angra (São Pedro)   \n",
       "4     LOCAL-430105                                         Angra (Sé)   \n",
       "..             ...                                                ...   \n",
       "19  FOREIGN-930299                         Postos Consulares da China   \n",
       "20  FOREIGN-920799    Postos Consulares dos Estados Unidos da América   \n",
       "21  FOREIGN-919999             Postos Consulares dos países de África   \n",
       "22  FOREIGN-929999  Restantes Postos Consulares Dos Países da América   \n",
       "23  FOREIGN-939999  Restantes Postos Consulares Dos Países da Ásia...   \n",
       "\n",
       "                              concelho        distrito  \n",
       "0                    Angra do Heroísmo          Açores  \n",
       "1                    Angra do Heroísmo          Açores  \n",
       "2                    Angra do Heroísmo          Açores  \n",
       "3                    Angra do Heroísmo          Açores  \n",
       "4                    Angra do Heroísmo          Açores  \n",
       "..                                 ...             ...  \n",
       "19                               China  Fora da Europa  \n",
       "20           Estados Unidos da América  Fora da Europa  \n",
       "21                    Países de África  Fora da Europa  \n",
       "22         Restantes Países da América  Fora da Europa  \n",
       "23  Restantes Países da Ásia e Oceânia  Fora da Europa  \n",
       "\n",
       "[3116 rows x 4 columns]"
      ]
     },
     "execution_count": 3,
     "metadata": {},
     "output_type": "execute_result"
    }
   ],
   "source": [
    "local = pd.read_csv('datasets/territory_codes_local.csv')\n",
    "foreign = pd.read_csv('datasets/territory_codes_foreign.csv')\n",
    "\n",
    "codes = (\n",
    "    pd.concat([local, foreign])\n",
    "    .rename(columns={'name': 'freguesia'})\n",
    ")\n",
    "\n",
    "codes"
   ]
  },
  {
   "cell_type": "code",
   "execution_count": 43,
   "metadata": {},
   "outputs": [
    {
     "ename": "KeyError",
     "evalue": "'None of [0] are in the columns'",
     "output_type": "error",
     "traceback": [
      "\u001b[1;31m---------------------------------------------------------------------------\u001b[0m",
      "\u001b[1;31mKeyError\u001b[0m                                  Traceback (most recent call last)",
      "\u001b[1;32m~\\AppData\\Local\\Temp\\ipykernel_9816\\1064257711.py\u001b[0m in \u001b[0;36m?\u001b[1;34m()\u001b[0m\n\u001b[0;32m      2\u001b[0m \u001b[0mt\u001b[0m\u001b[1;33m[\u001b[0m\u001b[1;34m'territoryKey'\u001b[0m\u001b[1;33m]\u001b[0m \u001b[1;33m=\u001b[0m \u001b[0mcodes\u001b[0m\u001b[1;33m[\u001b[0m\u001b[1;34m'territoryKey'\u001b[0m\u001b[1;33m]\u001b[0m\u001b[1;33m\u001b[0m\u001b[1;33m\u001b[0m\u001b[0m\n\u001b[0;32m      3\u001b[0m \u001b[1;33m\u001b[0m\u001b[0m\n\u001b[0;32m      4\u001b[0m file = (\n\u001b[0;32m      5\u001b[0m     \u001b[0mpd\u001b[0m\u001b[1;33m.\u001b[0m\u001b[0mread_csv\u001b[0m\u001b[1;33m(\u001b[0m\u001b[1;34m'datasets\\Local\\Açores\\Angra do Heroísmo\\Altares.csv'\u001b[0m\u001b[1;33m)\u001b[0m\u001b[1;33m\u001b[0m\u001b[1;33m\u001b[0m\u001b[0m\n\u001b[1;32m----> 6\u001b[1;33m     \u001b[1;33m.\u001b[0m\u001b[0mset_index\u001b[0m\u001b[1;33m(\u001b[0m\u001b[1;36m0\u001b[0m\u001b[1;33m)\u001b[0m\u001b[1;33m\u001b[0m\u001b[1;33m\u001b[0m\u001b[0m\n\u001b[0m\u001b[0;32m      7\u001b[0m )\n\u001b[0;32m      8\u001b[0m \u001b[1;33m\u001b[0m\u001b[0m\n\u001b[0;32m      9\u001b[0m \u001b[0mfile\u001b[0m\u001b[1;33m\u001b[0m\u001b[1;33m\u001b[0m\u001b[0m\n",
      "\u001b[1;32mc:\\Python\\envs\\py311\\Lib\\site-packages\\pandas\\core\\frame.py\u001b[0m in \u001b[0;36m?\u001b[1;34m(self, keys, drop, append, inplace, verify_integrity)\u001b[0m\n\u001b[0;32m   6105\u001b[0m                     \u001b[1;32mif\u001b[0m \u001b[1;32mnot\u001b[0m \u001b[0mfound\u001b[0m\u001b[1;33m:\u001b[0m\u001b[1;33m\u001b[0m\u001b[1;33m\u001b[0m\u001b[0m\n\u001b[0;32m   6106\u001b[0m                         \u001b[0mmissing\u001b[0m\u001b[1;33m.\u001b[0m\u001b[0mappend\u001b[0m\u001b[1;33m(\u001b[0m\u001b[0mcol\u001b[0m\u001b[1;33m)\u001b[0m\u001b[1;33m\u001b[0m\u001b[1;33m\u001b[0m\u001b[0m\n\u001b[0;32m   6107\u001b[0m \u001b[1;33m\u001b[0m\u001b[0m\n\u001b[0;32m   6108\u001b[0m         \u001b[1;32mif\u001b[0m \u001b[0mmissing\u001b[0m\u001b[1;33m:\u001b[0m\u001b[1;33m\u001b[0m\u001b[1;33m\u001b[0m\u001b[0m\n\u001b[1;32m-> 6109\u001b[1;33m             \u001b[1;32mraise\u001b[0m \u001b[0mKeyError\u001b[0m\u001b[1;33m(\u001b[0m\u001b[1;34mf\"None of {missing} are in the columns\"\u001b[0m\u001b[1;33m)\u001b[0m\u001b[1;33m\u001b[0m\u001b[1;33m\u001b[0m\u001b[0m\n\u001b[0m\u001b[0;32m   6110\u001b[0m \u001b[1;33m\u001b[0m\u001b[0m\n\u001b[0;32m   6111\u001b[0m         \u001b[1;32mif\u001b[0m \u001b[0minplace\u001b[0m\u001b[1;33m:\u001b[0m\u001b[1;33m\u001b[0m\u001b[1;33m\u001b[0m\u001b[0m\n\u001b[0;32m   6112\u001b[0m             \u001b[0mframe\u001b[0m \u001b[1;33m=\u001b[0m \u001b[0mself\u001b[0m\u001b[1;33m\u001b[0m\u001b[1;33m\u001b[0m\u001b[0m\n",
      "\u001b[1;31mKeyError\u001b[0m: 'None of [0] are in the columns'"
     ]
    }
   ],
   "source": [
    "t = pd.DataFrame(columns=['territoryKey', 'território', 'resultados'])\n",
    "t['territoryKey'] = codes['territoryKey']\n",
    "\n",
    "file = (\n",
    "    pd.read_csv('datasets\\Local\\Açores\\Angra do Heroísmo\\Altares.csv')\n",
    "    .set_index(0)\n",
    ")\n",
    "\n",
    "file\n"
   ]
  },
  {
   "cell_type": "code",
   "execution_count": 32,
   "metadata": {},
   "outputs": [
    {
     "data": {
      "text/plain": [
       "<pandas.core.indexing._LocIndexer at 0x255bf249e00>"
      ]
     },
     "execution_count": 32,
     "metadata": {},
     "output_type": "execute_result"
    }
   ],
   "source": [
    "\n",
    "r = pd.DataFrame()\n",
    "\n",
    "r = file.loc\n",
    "#r['resultados_24'] = file.loc[1]\n",
    "\n",
    "r\n"
   ]
  },
  {
   "cell_type": "code",
   "execution_count": null,
   "metadata": {},
   "outputs": [],
   "source": [
    "\n",
    "d['resultados']\n",
    "\n",
    "t.loc[t['territoryKey'] == d['territoryKey'], 'território'] = d['território']\n",
    "t.loc[t['territoryKey'] == d['territoryKey'], 'resultados'] = d['resultados'].to_dict()\n",
    "\n",
    "r"
   ]
  },
  {
   "cell_type": "code",
   "execution_count": null,
   "metadata": {},
   "outputs": [],
   "source": [
    "# results = pd.DataFrame(columns=['territoryKey', 'território', 'resultados'])\n",
    "\n",
    "# for i, row in codes.iterrows():\n",
    "#     tkey = row['territoryKey']\n",
    "#     loc = tkey.split('-')[0].capitalize()\n",
    "#     dist = row['distrito']\n",
    "#     county = row['concelho']\n",
    "#     parish = row['freguesia']\n",
    "\n",
    "#     path = 'datasets/' + loc + '/' + dist + '/' + county + '/' + parish + '.csv'\n",
    "\n",
    "#     file = pd.read_csv(path)\n",
    "#     row = transform(file)\n",
    "\n",
    "#     results.loc[len(results.index)] = row\n",
    "\n",
    "# results"
   ]
  }
 ],
 "metadata": {
  "kernelspec": {
   "display_name": "Python 3",
   "language": "python",
   "name": "python3"
  },
  "language_info": {
   "codemirror_mode": {
    "name": "ipython",
    "version": 3
   },
   "file_extension": ".py",
   "mimetype": "text/x-python",
   "name": "python",
   "nbconvert_exporter": "python",
   "pygments_lexer": "ipython3",
   "version": "3.11.8"
  }
 },
 "nbformat": 4,
 "nbformat_minor": 2
}
