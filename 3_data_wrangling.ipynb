{
 "cells": [
  {
   "cell_type": "markdown",
   "metadata": {},
   "source": [
    "### Setup"
   ]
  },
  {
   "cell_type": "code",
   "execution_count": 17,
   "metadata": {},
   "outputs": [],
   "source": [
    "import pandas as pd\n",
    "import ast\n",
    "import os"
   ]
  },
  {
   "cell_type": "code",
   "execution_count": 18,
   "metadata": {},
   "outputs": [],
   "source": [
    "local = pd.read_csv('datasets/territory_codes_local.csv')\n",
    "foreign = pd.read_csv('datasets/territory_codes_foreign.csv')\n",
    "codes = (\n",
    "    pd.concat([local, foreign])\n",
    "    .rename(columns={'name': 'freguesia'})\n",
    "    .reset_index(drop=True)\n",
    ")\n",
    "\n",
    "results = pd.DataFrame()\n",
    "metadata = pd.DataFrame()"
   ]
  },
  {
   "cell_type": "markdown",
   "metadata": {},
   "source": [
    "### Methods"
   ]
  },
  {
   "cell_type": "code",
   "execution_count": 19,
   "metadata": {},
   "outputs": [],
   "source": [
    "# Returns resuts table df\n",
    "def getResultsTable(file):\n",
    "    resultsParty = file.loc['resultsParty', 'currentResults']\n",
    "\n",
    "    results = (\n",
    "        pd.DataFrame(ast.literal_eval(resultsParty))\n",
    "        .drop(['absoluteMajority', 'constituenctyCounter', 'imageKey', 'mandates', 'presidents'], axis=1)\n",
    "        .set_index('acronym')\n",
    "    )\n",
    "\n",
    "    return results\n",
    "\n",
    "# Returns metadata df\n",
    "def getMetadata(file):\n",
    "    cr = pd.Series(\n",
    "        file['currentResults']\n",
    "        .drop(['availableMandates', 'compensation', 'displayMessage', 'hasNoVoting', 'resultsParty'\n",
    "            , 'tie', 'tieMessage', 'totalBoycotts', 'totalForeignBoycotts', 'totalLocalBoycotts'\n",
    "            , 'totalMandates', 'totalParishesApproved'])\n",
    "    )\n",
    "\n",
    "    metadata = (\n",
    "        file.drop(['currentResults', 'displayMessage', 'foreignCounterMessage', 'nationalCounterMessage', 'previousResults'\n",
    "                    , 'refreshTimeout', 'territoryMessage', 'time', 'timeOnServer', 'warningMessage'], axis=1)\n",
    "        .loc['availableMandates', :]\n",
    "    )\n",
    "\n",
    "    metadata = (\n",
    "        pd.concat([metadata, cr])\n",
    "        .to_frame(name='metadata')\n",
    "        .T\n",
    "        .set_index('territoryKey')\n",
    "    )\n",
    "\n",
    "    return metadata\n",
    "\n",
    "# Returns results df\n",
    "def getResults(file):\n",
    "    r = getResultsTable(file)\n",
    "    metadata = getMetadata(file)\n",
    "    r['tkey'] = metadata.index[0]\n",
    "    r['parish'] = metadata['territoryFullName'].iloc[0] #! fix To access a value by position, use ser.iloc[pos]\n",
    "\n",
    "    r = r.reset_index().set_index(['parish', 'acronym'])\n",
    "\n",
    "    return r\n",
    "\n",
    "# Creates directories\n",
    "def mkdir():\n",
    "        path = '/datasets/Results/' \n",
    "\n",
    "        working_dir = os.getcwd()\n",
    "        newpath = working_dir + path\n",
    "\n",
    "        if not os.path.exists(newpath):\n",
    "            os.makedirs(newpath)"
   ]
  },
  {
   "cell_type": "code",
   "execution_count": 20,
   "metadata": {},
   "outputs": [],
   "source": [
    "for i, row in codes.iterrows():\n",
    "    loc = row['territoryKey'].split('-')[0].capitalize()\n",
    "    file = (\n",
    "        pd.read_csv('datasets/' + loc + '/' + row['distrito'] + '/' + row['concelho'] + '/' + row['freguesia'] + '.csv')\n",
    "        .set_index('index')\n",
    "    )\n",
    "\n",
    "    results = pd.concat([results, getResults(file)])\n",
    "    metadata = pd.concat([metadata, getMetadata(file)])"
   ]
  },
  {
   "cell_type": "code",
   "execution_count": 21,
   "metadata": {},
   "outputs": [],
   "source": [
    "mkdir()\n",
    "\n",
    "results.to_csv('datasets/Results/results.csv')\n",
    "metadata.to_csv('datasets/Results/metadata.csv')"
   ]
  }
 ],
 "metadata": {
  "kernelspec": {
   "display_name": "Python 3",
   "language": "python",
   "name": "python3"
  },
  "language_info": {
   "codemirror_mode": {
    "name": "ipython",
    "version": 3
   },
   "file_extension": ".py",
   "mimetype": "text/x-python",
   "name": "python",
   "nbconvert_exporter": "python",
   "pygments_lexer": "ipython3",
   "version": "3.12.2"
  }
 },
 "nbformat": 4,
 "nbformat_minor": 2
}
