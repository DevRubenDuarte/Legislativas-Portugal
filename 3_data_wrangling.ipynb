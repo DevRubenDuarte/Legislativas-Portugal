{
 "cells": [
  {
   "cell_type": "markdown",
   "metadata": {},
   "source": [
    "### Setup"
   ]
  },
  {
   "cell_type": "code",
   "execution_count": 2,
   "metadata": {
    "notebookRunGroups": {
     "groupValue": "12"
    }
   },
   "outputs": [],
   "source": [
    "import pandas as pd\n",
    "import ast\n",
    "import os\n",
    "from dotenv import load_dotenv\n",
    "from sqlalchemy import (create_engine, Table, Column, Integer, String, MetaData, insert, VARCHAR)"
   ]
  },
  {
   "cell_type": "code",
   "execution_count": null,
   "metadata": {
    "notebookRunGroups": {
     "groupValue": "1"
    }
   },
   "outputs": [],
   "source": [
    "local = pd.read_csv('datasets/crawler/local_codes.csv')\n",
    "foreign = pd.read_csv('datasets/crawler/foreign_codes.csv')\n",
    "codes = (\n",
    "    pd.concat([local, foreign])\n",
    "    .rename(columns={'name': 'freguesia'})\n",
    "    .reset_index(drop=True)\n",
    ")"
   ]
  },
  {
   "cell_type": "code",
   "execution_count": 3,
   "metadata": {
    "notebookRunGroups": {
     "groupValue": "2"
    }
   },
   "outputs": [],
   "source": [
    "load_dotenv()\n",
    "user = os.getenv('USER')\n",
    "password = os.getenv('PW')\n",
    "eng = (\n",
    "    create_engine(\n",
    "        'mysql+pymysql://' + user + ':' + password + '@localhost/legislativas', \n",
    "        pool_recycle=3600, echo=True)\n",
    ")\n",
    "meta = MetaData()"
   ]
  },
  {
   "cell_type": "markdown",
   "metadata": {},
   "source": [
    "### Methods"
   ]
  },
  {
   "cell_type": "code",
   "execution_count": null,
   "metadata": {
    "notebookRunGroups": {
     "groupValue": "1"
    }
   },
   "outputs": [],
   "source": [
    "# Returns resuts table df\n",
    "def getResultsTable(file):\n",
    "    resultsParty = file.loc['resultsParty', 'currentResults']\n",
    "\n",
    "    results = (\n",
    "        pd.DataFrame(ast.literal_eval(resultsParty))\n",
    "        .drop(\n",
    "            ['absoluteMajority', 'constituenctyCounter', 'imageKey', 'mandates', 'presidents'], \n",
    "            axis=1)\n",
    "        .rename(columns={'acronym': 'party'})\n",
    "        .set_index('party')\n",
    "    )\n",
    "\n",
    "    return results\n",
    "\n",
    "# Returns metadata df\n",
    "def getResults(file, row):\n",
    "    md = pd.Series(file['currentResults'])\n",
    "    md.index.name = None\n",
    "    md = (\n",
    "        md.drop(\n",
    "            ['availableMandates', 'compensation', 'displayMessage', 'hasNoVoting', 'resultsParty', \n",
    "            'tie', 'tieMessage', 'totalBoycotts', 'totalForeignBoycotts', 'totalLocalBoycotts',\n",
    "            'totalMandates', 'totalParishesApproved'])\n",
    "        .to_frame()\n",
    "        .T\n",
    "        .assign(territoryKey = row['territoryKey'])\n",
    "        .set_index('territoryKey')\n",
    "    )\n",
    "    \n",
    "    loc = (\n",
    "        pd.DataFrame(\n",
    "            [row['parish'], row['county'], row['district'], row['territoryKey']]\n",
    "            , index=['parish', 'county', 'district', 'territoryKey'])\n",
    "        .T\n",
    "        .set_index('territoryKey')\n",
    "    )\n",
    "    \n",
    "    r = getResultsTable(file).drop(['percentage', 'validVotesPercentage'], axis=1).T\n",
    "    r['territoryKey'] = row['territoryKey']\n",
    "    r = r.reset_index().set_index('territoryKey').drop(['index'], axis=1)\n",
    "\n",
    "    return r, md, loc\n",
    "\n",
    "# Creates directories\n",
    "def mkdir():\n",
    "        path = '/datasets/results/' \n",
    "\n",
    "        working_dir = os.getcwd()\n",
    "        newpath = working_dir + path\n",
    "\n",
    "        if not os.path.exists(newpath):\n",
    "            os.makedirs(newpath)"
   ]
  },
  {
   "cell_type": "code",
   "execution_count": 4,
   "metadata": {
    "notebookRunGroups": {
     "groupValue": "2"
    }
   },
   "outputs": [],
   "source": [
    "def load_files():\n",
    "    results = pd.read_csv('datasets/results/results.csv').set_index('territoryKey')\n",
    "    metadata = pd.read_csv('datasets/results/metadata.csv').set_index('territoryKey')\n",
    "    location = pd.read_csv('datasets/results/location.csv').set_index('territoryKey')\n",
    "\n",
    "    return results, metadata, location\n",
    "\n",
    "def get_strmax(results, location):\n",
    "    lcol, strmax = location.columns.tolist(), pd.Series()\n",
    "    strmax['territoryKey'] = results.index.get_level_values('territoryKey').str.len().max()\n",
    "    \n",
    "    for col in lcol:\n",
    "        if location[col].dtype == 'object':\n",
    "            strmax[col] = location[col].str.len().max()\n",
    "            \n",
    "    return strmax"
   ]
  },
  {
   "cell_type": "markdown",
   "metadata": {},
   "source": [
    "### Create Results files"
   ]
  },
  {
   "cell_type": "code",
   "execution_count": null,
   "metadata": {
    "notebookRunGroups": {
     "groupValue": "1"
    }
   },
   "outputs": [],
   "source": [
    "results = pd.DataFrame()\n",
    "metadata = pd.DataFrame()\n",
    "location = pd.DataFrame()\n",
    "\n",
    "for i, row in codes.iterrows():\n",
    "    file = (\n",
    "        pd.read_csv('datasets/crawler/' + row['territoryKey'].split('-')[0].capitalize() + '/' + row['district'] + '/' + row['county'] + '/' + row['parish'] + '.csv')\n",
    "        .set_index('index')\n",
    "    )\n",
    "    \n",
    "    r, md, loc = getResults(file, row)\n",
    "\n",
    "    results = pd.concat([results, r])    \n",
    "    metadata = pd.concat([metadata, md])\n",
    "    location = pd.concat([location, loc])"
   ]
  },
  {
   "cell_type": "code",
   "execution_count": null,
   "metadata": {
    "notebookRunGroups": {
     "groupValue": "1"
    }
   },
   "outputs": [],
   "source": [
    "mkdir()\n",
    "\n",
    "results.to_csv('datasets/results/results.csv')\n",
    "metadata.to_csv('datasets/results/metadata.csv')\n",
    "location.to_csv('datasets/results/location.csv')"
   ]
  },
  {
   "cell_type": "markdown",
   "metadata": {},
   "source": [
    "### Database"
   ]
  },
  {
   "cell_type": "markdown",
   "metadata": {},
   "source": [
    "#### Table creation"
   ]
  },
  {
   "cell_type": "code",
   "execution_count": 6,
   "metadata": {
    "notebookRunGroups": {
     "groupValue": ""
    }
   },
   "outputs": [
    {
     "name": "stdout",
     "output_type": "stream",
     "text": [
      "2024-04-23 17:11:05,687 INFO sqlalchemy.engine.Engine SELECT DATABASE()\n",
      "2024-04-23 17:11:05,688 INFO sqlalchemy.engine.Engine [raw sql] {}\n",
      "2024-04-23 17:11:05,690 INFO sqlalchemy.engine.Engine SELECT @@sql_mode\n",
      "2024-04-23 17:11:05,690 INFO sqlalchemy.engine.Engine [raw sql] {}\n",
      "2024-04-23 17:11:05,691 INFO sqlalchemy.engine.Engine SELECT @@lower_case_table_names\n",
      "2024-04-23 17:11:05,692 INFO sqlalchemy.engine.Engine [raw sql] {}\n",
      "2024-04-23 17:11:05,710 INFO sqlalchemy.engine.Engine BEGIN (implicit)\n",
      "2024-04-23 17:11:05,710 INFO sqlalchemy.engine.Engine DESCRIBE `legislativas`.`results`\n",
      "2024-04-23 17:11:05,710 INFO sqlalchemy.engine.Engine [raw sql] {}\n",
      "2024-04-23 17:11:05,714 INFO sqlalchemy.engine.Engine DESCRIBE `legislativas`.`metadata`\n",
      "2024-04-23 17:11:05,714 INFO sqlalchemy.engine.Engine [raw sql] {}\n",
      "2024-04-23 17:11:05,714 INFO sqlalchemy.engine.Engine DESCRIBE `legislativas`.`location`\n",
      "2024-04-23 17:11:05,714 INFO sqlalchemy.engine.Engine [raw sql] {}\n",
      "2024-04-23 17:11:05,714 INFO sqlalchemy.engine.Engine COMMIT\n"
     ]
    }
   ],
   "source": [
    "results, metadata, location = load_files()\n",
    "strmax = get_strmax(results, location)\n",
    "\n",
    "with eng.connect() as con:\n",
    "    resultsTable = Table('results', meta,\n",
    "        Column('territoryKey', String(strmax['territoryKey']), primary_key=True, nullable=False),\n",
    "        Column('PPD/PSD.CDS-PP.PPM', Integer),\n",
    "        Column('PS', Integer),\n",
    "        Column('CH', Integer),\n",
    "        Column('B.E.', Integer),\n",
    "        Column('IL', Integer),\n",
    "        Column('ADN', Integer),\n",
    "        Column('L', Integer),\n",
    "        Column('PAN', Integer),\n",
    "        Column('PCP-PEV', Integer),\n",
    "        Column('VP', Integer),\n",
    "        Column('E', Integer),\n",
    "        Column('JPP', Integer),\n",
    "        Column('R.I.R.', Integer),\n",
    "        Column('ND', Integer),\n",
    "        Column('PCTP/MRPP', Integer),\n",
    "        Column('MPT.A', Integer),\n",
    "        Column('NC', Integer),\n",
    "        Column('PTP', Integer),\n",
    "        Column('PPD/PSD.CDS-PP', Integer),\n",
    "        Column('PPM', Integer),        \n",
    "    )\n",
    "    metadataTable = Table('metadata', meta,\n",
    "        Column('territoryKey', String(strmax['territoryKey']), primary_key=True, nullable=False),\n",
    "        Column('blankVotes', Integer),\n",
    "        Column('blankVotesPercentage', Integer),\n",
    "        Column('nullVotes', Integer),\n",
    "        Column('nullVotesPercentage', Integer),\n",
    "        Column('numberParishes', Integer),\n",
    "        Column('numberVoters', Integer),\n",
    "        Column('percentageVoters', Integer),\n",
    "        Column('subscribedVoters', Integer),\n",
    "        Column('totalVoters', Integer)\n",
    "    )\n",
    "    locationTable = Table('location', meta,\n",
    "        Column('territoryKey', String(strmax['territoryKey']), primary_key=True, nullable=False),\n",
    "        Column('parish', String(strmax['parish'])),\n",
    "        Column('county', String(strmax['county'])),\n",
    "        Column('district', String(strmax['district']))\n",
    "    )\n",
    "    \n",
    "    meta.create_all(eng)\n",
    "    # meta.drop_all(eng)\n",
    "    # meta.reflect(bind=eng) # Connect to database"
   ]
  },
  {
   "cell_type": "markdown",
   "metadata": {},
   "source": [
    "#### Import from df to mySQL"
   ]
  },
  {
   "cell_type": "code",
   "execution_count": 8,
   "metadata": {},
   "outputs": [
    {
     "name": "stdout",
     "output_type": "stream",
     "text": [
      "2024-04-23 17:12:14,222 INFO sqlalchemy.engine.Engine BEGIN (implicit)\n",
      "2024-04-23 17:12:14,225 INFO sqlalchemy.engine.Engine DESCRIBE `legislativas`.`results`\n",
      "2024-04-23 17:12:14,225 INFO sqlalchemy.engine.Engine [raw sql] {}\n",
      "2024-04-23 17:12:14,225 INFO sqlalchemy.engine.Engine DESCRIBE `legislativas`.`results`\n",
      "2024-04-23 17:12:14,225 INFO sqlalchemy.engine.Engine [raw sql] {}\n",
      "2024-04-23 17:12:14,225 INFO sqlalchemy.engine.Engine SHOW FULL TABLES FROM `legislativas`\n",
      "2024-04-23 17:12:14,225 INFO sqlalchemy.engine.Engine [raw sql] {}\n",
      "2024-04-23 17:12:14,225 INFO sqlalchemy.engine.Engine SHOW FULL TABLES FROM `legislativas`\n",
      "2024-04-23 17:12:14,225 INFO sqlalchemy.engine.Engine [raw sql] {}\n",
      "2024-04-23 17:12:14,225 INFO sqlalchemy.engine.Engine SHOW CREATE TABLE `results`\n",
      "2024-04-23 17:12:14,225 INFO sqlalchemy.engine.Engine [raw sql] {}\n",
      "2024-04-23 17:12:14,239 INFO sqlalchemy.engine.Engine \n",
      "DROP TABLE results\n",
      "2024-04-23 17:12:14,239 INFO sqlalchemy.engine.Engine [no key 0.00054s] {}\n",
      "2024-04-23 17:12:14,255 INFO sqlalchemy.engine.Engine \n",
      "CREATE TABLE results (\n",
      "\t`territoryKey` VARCHAR(14), \n",
      "\t`PPD/PSD.CDS-PP.PPM` FLOAT(53), \n",
      "\t`PS` BIGINT, \n",
      "\t`CH` BIGINT, \n",
      "\t`B.E.` BIGINT, \n",
      "\t`IL` BIGINT, \n",
      "\t`ADN` BIGINT, \n",
      "\t`L` BIGINT, \n",
      "\t`PAN` BIGINT, \n",
      "\t`PCP-PEV` BIGINT, \n",
      "\t`VP` FLOAT(53), \n",
      "\t`E` BIGINT, \n",
      "\t`JPP` FLOAT(53), \n",
      "\t`R.I.R.` BIGINT, \n",
      "\t`ND` FLOAT(53), \n",
      "\t`PCTP/MRPP` FLOAT(53), \n",
      "\t`MPT.A` FLOAT(53), \n",
      "\t`NC` FLOAT(53), \n",
      "\t`PTP` FLOAT(53), \n",
      "\t`PPD/PSD.CDS-PP` FLOAT(53), \n",
      "\t`PPM` FLOAT(53)\n",
      ")\n",
      "\n",
      "\n",
      "2024-04-23 17:12:14,255 INFO sqlalchemy.engine.Engine [no key 0.00050s] {}\n",
      "2024-04-23 17:12:14,273 INFO sqlalchemy.engine.Engine CREATE INDEX `ix_results_territoryKey` ON results (`territoryKey`)\n",
      "2024-04-23 17:12:14,273 INFO sqlalchemy.engine.Engine [no key 0.00074s] {}\n",
      "2024-04-23 17:12:14,338 INFO sqlalchemy.engine.Engine INSERT INTO results (`territoryKey`, `PPD/PSD.CDS-PP.PPM`, `PS`, `CH`, `B.E.`, `IL`, `ADN`, `L`, `PAN`, `PCP-PEV`, `VP`, `E`, `JPP`, `R.I.R.`, `ND`, `PCTP/MRPP`, `MPT.A`, `NC`, `PTP`, `PPD/PSD.CDS-PP`, `PPM`) VALUES (%(territoryKey)s, %(PPD/PSD_CDS-PP_PPM)s, %(PS)s, %(CH)s, %(B_E_)s, %(IL)s, %(ADN)s, %(L)s, %(PAN)s, %(PCP-PEV)s, %(VP)s, %(E)s, %(JPP)s, %(R_I_R_)s, %(ND)s, %(PCTP/MRPP)s, %(MPT_A)s, %(NC)s, %(PTP)s, %(PPD/PSD_CDS-PP)s, %(PPM)s)\n",
      "2024-04-23 17:12:14,338 INFO sqlalchemy.engine.Engine [generated in 0.04742s] [{'territoryKey': 'LOCAL-430101', 'PPD/PSD_CDS-PP_PPM': 199.0, 'PS': 158, 'CH': 56, 'B_E_': 10, 'IL': 9, 'ADN': 4, 'L': 4, 'PAN': 3, 'PCP-PEV': 1, 'VP': 1.0, 'E': 0, 'JPP': 0.0, 'R_I_R_': 0, 'ND': None, 'PCTP/MRPP': None, 'MPT_A': None, 'NC': None, 'PTP': None, 'PPD/PSD_CDS-PP': None, 'PPM': None}, {'territoryKey': 'LOCAL-430102', 'PPD/PSD_CDS-PP_PPM': 599.0, 'PS': 624, 'CH': 196, 'B_E_': 85, 'IL': 47, 'ADN': 13, 'L': 33, 'PAN': 36, 'PCP-PEV': 29, 'VP': 2.0, 'E': 1, 'JPP': 0.0, 'R_I_R_': 5, 'ND': None, 'PCTP/MRPP': None, 'MPT_A': None, 'NC': None, 'PTP': None, 'PPD/PSD_CDS-PP': None, 'PPM': None}, {'territoryKey': 'LOCAL-430103', 'PPD/PSD_CDS-PP_PPM': 438.0, 'PS': 447, 'CH': 136, 'B_E_': 28, 'IL': 46, 'ADN': 5, 'L': 22, 'PAN': 21, 'PCP-PEV': 18, 'VP': 0.0, 'E': 0, 'JPP': 2.0, 'R_I_R_': 0, 'ND': None, 'PCTP/MRPP': None, 'MPT_A': None, 'NC': None, 'PTP': None, 'PPD/PSD_CDS-PP': None, 'PPM': None}, {'territoryKey': 'LOCAL-430104', 'PPD/PSD_CDS-PP_PPM': 862.0, 'PS': 577, 'CH': 162, 'B_E_': 80, 'IL': 70, 'ADN': 8, 'L': 39, 'PAN': 22, 'PCP-PEV': 20, 'VP': 1.0, 'E': 0, 'JPP': 1.0, 'R_I_R_': 0, 'ND': None, 'PCTP/MRPP': None, 'MPT_A': None, 'NC': None, 'PTP': None, 'PPD/PSD_CDS-PP': None, 'PPM': None}, {'territoryKey': 'LOCAL-430105', 'PPD/PSD_CDS-PP_PPM': 302.0, 'PS': 153, 'CH': 66, 'B_E_': 16, 'IL': 18, 'ADN': 5, 'L': 15, 'PAN': 12, 'PCP-PEV': 10, 'VP': 1.0, 'E': 0, 'JPP': 1.0, 'R_I_R_': 0, 'ND': None, 'PCTP/MRPP': None, 'MPT_A': None, 'NC': None, 'PTP': None, 'PPD/PSD_CDS-PP': None, 'PPM': None}, {'territoryKey': 'LOCAL-430106', 'PPD/PSD_CDS-PP_PPM': 197.0, 'PS': 95, 'CH': 48, 'B_E_': 12, 'IL': 14, 'ADN': 3, 'L': 7, 'PAN': 3, 'PCP-PEV': 3, 'VP': 1.0, 'E': 0, 'JPP': 0.0, 'R_I_R_': 0, 'ND': None, 'PCTP/MRPP': None, 'MPT_A': None, 'NC': None, 'PTP': None, 'PPD/PSD_CDS-PP': None, 'PPM': None}, {'territoryKey': 'LOCAL-430107', 'PPD/PSD_CDS-PP_PPM': 108.0, 'PS': 88, 'CH': 37, 'B_E_': 9, 'IL': 3, 'ADN': 3, 'L': 7, 'PAN': 4, 'PCP-PEV': 0, 'VP': 1.0, 'E': 0, 'JPP': 1.0, 'R_I_R_': 0, 'ND': None, 'PCTP/MRPP': None, 'MPT_A': None, 'NC': None, 'PTP': None, 'PPD/PSD_CDS-PP': None, 'PPM': None}, {'territoryKey': 'LOCAL-430108', 'PPD/PSD_CDS-PP_PPM': 337.0, 'PS': 202, 'CH': 78, 'B_E_': 24, 'IL': 24, 'ADN': 10, 'L': 14, 'PAN': 8, 'PCP-PEV': 3, 'VP': 2.0, 'E': 1, 'JPP': 3.0, 'R_I_R_': 0, 'ND': None, 'PCTP/MRPP': None, 'MPT_A': None, 'NC': None, 'PTP': None, 'PPD/PSD_CDS-PP': None, 'PPM': None}  ... displaying 10 of 3116 total bound parameter sets ...  {'territoryKey': 'FOREIGN-929999', 'PPD/PSD_CDS-PP_PPM': 1184.0, 'PS': 453, 'CH': 216, 'B_E_': 24, 'IL': 88, 'ADN': 135, 'L': 19, 'PAN': 66, 'PCP-PEV': 26, 'VP': 9.0, 'E': 4, 'JPP': 13.0, 'R_I_R_': 1, 'ND': 15.0, 'PCTP/MRPP': None, 'MPT_A': 11.0, 'NC': 12.0, 'PTP': None, 'PPD/PSD_CDS-PP': None, 'PPM': None}, {'territoryKey': 'FOREIGN-939999', 'PPD/PSD_CDS-PP_PPM': 1886.0, 'PS': 801, 'CH': 482, 'B_E_': 98, 'IL': 206, 'ADN': 68, 'L': 79, 'PAN': 122, 'PCP-PEV': 73, 'VP': 30.0, 'E': 5, 'JPP': 13.0, 'R_I_R_': 7, 'ND': 8.0, 'PCTP/MRPP': None, 'MPT_A': 10.0, 'NC': 14.0, 'PTP': None, 'PPD/PSD_CDS-PP': None, 'PPM': None}]\n",
      "2024-04-23 17:12:14,540 INFO sqlalchemy.engine.Engine COMMIT\n",
      "2024-04-23 17:12:14,540 INFO sqlalchemy.engine.Engine BEGIN (implicit)\n",
      "2024-04-23 17:12:14,540 INFO sqlalchemy.engine.Engine DESCRIBE `legislativas`.`metadata`\n",
      "2024-04-23 17:12:14,540 INFO sqlalchemy.engine.Engine [raw sql] {}\n",
      "2024-04-23 17:12:14,553 INFO sqlalchemy.engine.Engine DESCRIBE `legislativas`.`metadata`\n",
      "2024-04-23 17:12:14,553 INFO sqlalchemy.engine.Engine [raw sql] {}\n",
      "2024-04-23 17:12:14,555 INFO sqlalchemy.engine.Engine SHOW FULL TABLES FROM `legislativas`\n",
      "2024-04-23 17:12:14,555 INFO sqlalchemy.engine.Engine [raw sql] {}\n",
      "2024-04-23 17:12:14,555 INFO sqlalchemy.engine.Engine SHOW FULL TABLES FROM `legislativas`\n",
      "2024-04-23 17:12:14,555 INFO sqlalchemy.engine.Engine [raw sql] {}\n",
      "2024-04-23 17:12:14,560 INFO sqlalchemy.engine.Engine SHOW CREATE TABLE `metadata`\n",
      "2024-04-23 17:12:14,561 INFO sqlalchemy.engine.Engine [raw sql] {}\n",
      "2024-04-23 17:12:14,561 INFO sqlalchemy.engine.Engine \n",
      "DROP TABLE metadata\n",
      "2024-04-23 17:12:14,561 INFO sqlalchemy.engine.Engine [no key 0.00044s] {}\n",
      "2024-04-23 17:12:14,574 INFO sqlalchemy.engine.Engine \n",
      "CREATE TABLE metadata (\n",
      "\t`territoryKey` VARCHAR(14), \n",
      "\t`blankVotes` BIGINT, \n",
      "\t`blankVotesPercentage` FLOAT(53), \n",
      "\t`nullVotes` BIGINT, \n",
      "\t`nullVotesPercentage` FLOAT(53), \n",
      "\t`numberParishes` BIGINT, \n",
      "\t`numberVoters` BIGINT, \n",
      "\t`percentageVoters` FLOAT(53), \n",
      "\t`subscribedVoters` BIGINT, \n",
      "\t`totalVoters` BIGINT\n",
      ")\n",
      "\n",
      "\n",
      "2024-04-23 17:12:14,574 INFO sqlalchemy.engine.Engine [no key 0.00054s] {}\n",
      "2024-04-23 17:12:14,589 INFO sqlalchemy.engine.Engine CREATE INDEX `ix_metadata_territoryKey` ON metadata (`territoryKey`)\n",
      "2024-04-23 17:12:14,589 INFO sqlalchemy.engine.Engine [no key 0.00051s] {}\n",
      "2024-04-23 17:12:14,655 INFO sqlalchemy.engine.Engine INSERT INTO metadata (`territoryKey`, `blankVotes`, `blankVotesPercentage`, `nullVotes`, `nullVotesPercentage`, `numberParishes`, `numberVoters`, `percentageVoters`, `subscribedVoters`, `totalVoters`) VALUES (%(territoryKey)s, %(blankVotes)s, %(blankVotesPercentage)s, %(nullVotes)s, %(nullVotesPercentage)s, %(numberParishes)s, %(numberVoters)s, %(percentageVoters)s, %(subscribedVoters)s, %(totalVoters)s)\n",
      "2024-04-23 17:12:14,655 INFO sqlalchemy.engine.Engine [generated in 0.05513s] [{'territoryKey': 'LOCAL-430101', 'blankVotes': 13, 'blankVotesPercentage': 2.8200000000000003, 'nullVotes': 3, 'nullVotesPercentage': 0.65, 'numberParishes': 1, 'numberVoters': 461, 'percentageVoters': 54.36, 'subscribedVoters': 848, 'totalVoters': 461}, {'territoryKey': 'LOCAL-430102', 'blankVotes': 31, 'blankVotesPercentage': 1.8, 'nullVotes': 19, 'nullVotesPercentage': 1.1, 'numberParishes': 1, 'numberVoters': 1720, 'percentageVoters': 46.24, 'subscribedVoters': 3720, 'totalVoters': 1720}, {'territoryKey': 'LOCAL-430103', 'blankVotes': 33, 'blankVotesPercentage': 2.73, 'nullVotes': 14, 'nullVotesPercentage': 1.16, 'numberParishes': 1, 'numberVoters': 1210, 'percentageVoters': 52.95, 'subscribedVoters': 2285, 'totalVoters': 1210}, {'territoryKey': 'LOCAL-430104', 'blankVotes': 35, 'blankVotesPercentage': 1.85, 'nullVotes': 10, 'nullVotesPercentage': 0.53, 'numberParishes': 1, 'numberVoters': 1887, 'percentageVoters': 56.96, 'subscribedVoters': 3313, 'totalVoters': 1887}, {'territoryKey': 'LOCAL-430105', 'blankVotes': 7, 'blankVotesPercentage': 1.14, 'nullVotes': 9, 'nullVotesPercentage': 1.46, 'numberParishes': 1, 'numberVoters': 615, 'percentageVoters': 55.91, 'subscribedVoters': 1100, 'totalVoters': 615}, {'territoryKey': 'LOCAL-430106', 'blankVotes': 10, 'blankVotesPercentage': 2.53, 'nullVotes': 2, 'nullVotesPercentage': 0.51, 'numberParishes': 1, 'numberVoters': 395, 'percentageVoters': 61.72, 'subscribedVoters': 640, 'totalVoters': 395}, {'territoryKey': 'LOCAL-430107', 'blankVotes': 10, 'blankVotesPercentage': 3.66, 'nullVotes': 2, 'nullVotesPercentage': 0.73, 'numberParishes': 1, 'numberVoters': 273, 'percentageVoters': 61.9, 'subscribedVoters': 441, 'totalVoters': 273}, {'territoryKey': 'LOCAL-430108', 'blankVotes': 12, 'blankVotesPercentage': 1.65, 'nullVotes': 11, 'nullVotesPercentage': 1.51, 'numberParishes': 1, 'numberVoters': 729, 'percentageVoters': 58.04, 'subscribedVoters': 1256, 'totalVoters': 729}  ... displaying 10 of 3116 total bound parameter sets ...  {'territoryKey': 'FOREIGN-929999', 'blankVotes': 92, 'blankVotesPercentage': 2.68, 'nullVotes': 1068, 'nullVotesPercentage': 31.08, 'numberParishes': 1, 'numberVoters': 3436, 'percentageVoters': 5.47, 'subscribedVoters': 62856, 'totalVoters': 3436}, {'territoryKey': 'FOREIGN-939999', 'blankVotes': 23, 'blankVotesPercentage': 0.38, 'nullVotes': 2063, 'nullVotesPercentage': 34.45, 'numberParishes': 1, 'numberVoters': 5988, 'percentageVoters': 10.29, 'subscribedVoters': 58198, 'totalVoters': 5988}]\n",
      "2024-04-23 17:12:14,773 INFO sqlalchemy.engine.Engine COMMIT\n",
      "2024-04-23 17:12:14,788 INFO sqlalchemy.engine.Engine BEGIN (implicit)\n",
      "2024-04-23 17:12:14,788 INFO sqlalchemy.engine.Engine DESCRIBE `legislativas`.`location`\n",
      "2024-04-23 17:12:14,788 INFO sqlalchemy.engine.Engine [raw sql] {}\n",
      "2024-04-23 17:12:14,788 INFO sqlalchemy.engine.Engine DESCRIBE `legislativas`.`location`\n",
      "2024-04-23 17:12:14,788 INFO sqlalchemy.engine.Engine [raw sql] {}\n",
      "2024-04-23 17:12:14,788 INFO sqlalchemy.engine.Engine SHOW FULL TABLES FROM `legislativas`\n",
      "2024-04-23 17:12:14,788 INFO sqlalchemy.engine.Engine [raw sql] {}\n",
      "2024-04-23 17:12:14,788 INFO sqlalchemy.engine.Engine SHOW FULL TABLES FROM `legislativas`\n",
      "2024-04-23 17:12:14,788 INFO sqlalchemy.engine.Engine [raw sql] {}\n",
      "2024-04-23 17:12:14,788 INFO sqlalchemy.engine.Engine SHOW CREATE TABLE `location`\n",
      "2024-04-23 17:12:14,788 INFO sqlalchemy.engine.Engine [raw sql] {}\n",
      "2024-04-23 17:12:14,800 INFO sqlalchemy.engine.Engine \n",
      "DROP TABLE location\n",
      "2024-04-23 17:12:14,800 INFO sqlalchemy.engine.Engine [no key 0.00041s] {}\n",
      "2024-04-23 17:12:14,809 INFO sqlalchemy.engine.Engine \n",
      "CREATE TABLE location (\n",
      "\t`territoryKey` VARCHAR(14), \n",
      "\tparish TEXT, \n",
      "\tcounty TEXT, \n",
      "\tdistrict TEXT\n",
      ")\n",
      "\n",
      "\n",
      "2024-04-23 17:12:14,810 INFO sqlalchemy.engine.Engine [no key 0.00047s] {}\n",
      "2024-04-23 17:12:14,823 INFO sqlalchemy.engine.Engine CREATE INDEX `ix_location_territoryKey` ON location (`territoryKey`)\n",
      "2024-04-23 17:12:14,823 INFO sqlalchemy.engine.Engine [no key 0.00083s] {}\n",
      "2024-04-23 17:12:14,846 INFO sqlalchemy.engine.Engine INSERT INTO location (`territoryKey`, parish, county, district) VALUES (%(territoryKey)s, %(parish)s, %(county)s, %(district)s)\n",
      "2024-04-23 17:12:14,846 INFO sqlalchemy.engine.Engine [generated in 0.00937s] [{'territoryKey': 'LOCAL-430101', 'parish': 'Altares', 'county': 'Angra do Heroísmo', 'district': 'Açores'}, {'territoryKey': 'LOCAL-430102', 'parish': 'Angra (Nossa Senhora da Conceição)', 'county': 'Angra do Heroísmo', 'district': 'Açores'}, {'territoryKey': 'LOCAL-430103', 'parish': 'Angra (Santa Luzia)', 'county': 'Angra do Heroísmo', 'district': 'Açores'}, {'territoryKey': 'LOCAL-430104', 'parish': 'Angra (São Pedro)', 'county': 'Angra do Heroísmo', 'district': 'Açores'}, {'territoryKey': 'LOCAL-430105', 'parish': 'Angra (Sé)', 'county': 'Angra do Heroísmo', 'district': 'Açores'}, {'territoryKey': 'LOCAL-430106', 'parish': 'Cinco Ribeiras', 'county': 'Angra do Heroísmo', 'district': 'Açores'}, {'territoryKey': 'LOCAL-430107', 'parish': 'Doze Ribeiras', 'county': 'Angra do Heroísmo', 'district': 'Açores'}, {'territoryKey': 'LOCAL-430108', 'parish': 'Feteira', 'county': 'Angra do Heroísmo', 'district': 'Açores'}  ... displaying 10 of 3116 total bound parameter sets ...  {'territoryKey': 'FOREIGN-929999', 'parish': 'Restantes Postos Consulares Dos Países da América', 'county': 'Restantes Países da América', 'district': 'Fora da Europa'}, {'territoryKey': 'FOREIGN-939999', 'parish': 'Restantes Postos Consulares Dos Países da Ásia e Oceânia', 'county': 'Restantes Países da Ásia e Oceânia', 'district': 'Fora da Europa'}]\n",
      "2024-04-23 17:12:14,928 INFO sqlalchemy.engine.Engine COMMIT\n"
     ]
    },
    {
     "data": {
      "text/plain": [
       "3116"
      ]
     },
     "execution_count": 8,
     "metadata": {},
     "output_type": "execute_result"
    }
   ],
   "source": [
    "results.to_sql(\n",
    "    'results',\n",
    "    con=eng,\n",
    "    if_exists='replace',\n",
    "    dtype={\n",
    "        'territoryKey': VARCHAR(strmax['territoryKey'])\n",
    "    }\n",
    ")\n",
    "metadata.to_sql(\n",
    "    'metadata',\n",
    "    con=eng,\n",
    "    if_exists='replace',\n",
    "    dtype={\n",
    "        'territoryKey': VARCHAR(strmax['territoryKey'])\n",
    "    }\n",
    ")\n",
    "location.to_sql(\n",
    "    'location',\n",
    "    con=eng,\n",
    "    if_exists='replace',\n",
    "    dtype={\n",
    "        'territoryKey': VARCHAR(strmax['territoryKey'])\n",
    "    }\n",
    ")"
   ]
  },
  {
   "cell_type": "markdown",
   "metadata": {},
   "source": [
    "### Explore Data"
   ]
  },
  {
   "cell_type": "code",
   "execution_count": null,
   "metadata": {
    "notebookRunGroups": {
     "groupValue": ""
    }
   },
   "outputs": [],
   "source": [
    "# results, metadata, location = load_files()\n",
    "\n",
    "# parties = results.index.unique(level='party')\n",
    "\n",
    "# idx = pd.IndexSlice"
   ]
  },
  {
   "cell_type": "code",
   "execution_count": 8,
   "metadata": {
    "notebookRunGroups": {
     "groupValue": "2"
    }
   },
   "outputs": [
    {
     "name": "stdout",
     "output_type": "stream",
     "text": [
      "2024-04-24 10:58:04,995 INFO sqlalchemy.engine.Engine BEGIN (implicit)\n",
      "2024-04-24 10:58:04,996 INFO sqlalchemy.engine.Engine SHOW FULL TABLES FROM `legislativas`\n",
      "2024-04-24 10:58:04,996 INFO sqlalchemy.engine.Engine [raw sql] {}\n",
      "2024-04-24 10:58:04,999 INFO sqlalchemy.engine.Engine SHOW CREATE TABLE `location`\n",
      "2024-04-24 10:58:04,999 INFO sqlalchemy.engine.Engine [raw sql] {}\n",
      "2024-04-24 10:58:05,001 INFO sqlalchemy.engine.Engine SHOW CREATE TABLE `metadata`\n",
      "2024-04-24 10:58:05,002 INFO sqlalchemy.engine.Engine [raw sql] {}\n",
      "2024-04-24 10:58:05,003 INFO sqlalchemy.engine.Engine SHOW CREATE TABLE `results`\n",
      "2024-04-24 10:58:05,004 INFO sqlalchemy.engine.Engine [raw sql] {}\n",
      "2024-04-24 10:58:05,006 INFO sqlalchemy.engine.Engine ROLLBACK\n"
     ]
    },
    {
     "ename": "AttributeError",
     "evalue": "'MetaData' object has no attribute 'location'",
     "output_type": "error",
     "traceback": [
      "\u001b[1;31m---------------------------------------------------------------------------\u001b[0m",
      "\u001b[1;31mAttributeError\u001b[0m                            Traceback (most recent call last)",
      "Cell \u001b[1;32mIn[8], line 3\u001b[0m\n\u001b[0;32m      1\u001b[0m meta\u001b[38;5;241m.\u001b[39mreflect(bind\u001b[38;5;241m=\u001b[39meng)\n\u001b[1;32m----> 3\u001b[0m \u001b[43mmeta\u001b[49m\u001b[38;5;241;43m.\u001b[39;49m\u001b[43mlocation\u001b[49m\n",
      "\u001b[1;31mAttributeError\u001b[0m: 'MetaData' object has no attribute 'location'"
     ]
    }
   ],
   "source": [
    "meta.reflect(bind=eng)\n",
    "\n"
   ]
  }
 ],
 "metadata": {
  "kernelspec": {
   "display_name": "Python 3",
   "language": "python",
   "name": "python3"
  },
  "language_info": {
   "codemirror_mode": {
    "name": "ipython",
    "version": 3
   },
   "file_extension": ".py",
   "mimetype": "text/x-python",
   "name": "python",
   "nbconvert_exporter": "python",
   "pygments_lexer": "ipython3",
   "version": "3.11.9"
  }
 },
 "nbformat": 4,
 "nbformat_minor": 2
}
