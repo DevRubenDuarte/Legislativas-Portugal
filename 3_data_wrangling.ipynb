{
 "cells": [
  {
   "cell_type": "markdown",
   "metadata": {},
   "source": [
    "### Setup"
   ]
  },
  {
   "cell_type": "code",
   "execution_count": null,
   "metadata": {
    "notebookRunGroups": {
     "groupValue": "12"
    }
   },
   "outputs": [],
   "source": [
    "import pandas as pd\n",
    "import ast\n",
    "import os\n",
    "from dotenv import load_dotenv\n",
    "from sqlalchemy import (create_engine, Table, Column, Integer, String, Float, VARCHAR, MetaData)"
   ]
  },
  {
   "cell_type": "code",
   "execution_count": null,
   "metadata": {
    "notebookRunGroups": {
     "groupValue": "12"
    }
   },
   "outputs": [],
   "source": [
    "local = pd.read_csv('datasets/crawler/local_codes.csv')\n",
    "foreign = pd.read_csv('datasets/crawler/foreign_codes.csv')\n",
    "codes = (\n",
    "    pd.concat([local, foreign])\n",
    "    .rename(columns={'name': 'freguesia'})\n",
    "    .reset_index(drop=True)\n",
    ")\n",
    "load_dotenv()\n",
    "user = os.getenv('USER')\n",
    "password = os.getenv('PW')\n",
    "host = os.getenv('SQL')\n",
    "db = os.getenv('DB')\n",
    "eng = (\n",
    "    create_engine(\n",
    "        'mysql+pymysql://' + user + ':' + password + '@' + host + '/' + db,\n",
    "        pool_recycle=3600, echo=True)\n",
    ")\n",
    "meta = MetaData()"
   ]
  },
  {
   "cell_type": "markdown",
   "metadata": {},
   "source": [
    "### Methods"
   ]
  },
  {
   "cell_type": "code",
   "execution_count": null,
   "metadata": {
    "notebookRunGroups": {
     "groupValue": "12"
    }
   },
   "outputs": [],
   "source": [
    "# Returns resuts table df\n",
    "def getResultsTable(file):\n",
    "    resultsParty = file.loc['resultsParty', 'currentResults']\n",
    "\n",
    "    results = (\n",
    "        pd.DataFrame(ast.literal_eval(resultsParty))\n",
    "        .drop(\n",
    "            ['absoluteMajority', 'constituenctyCounter', 'imageKey', 'mandates', 'presidents'],\n",
    "            axis=1)\n",
    "        .rename(columns={'acronym': 'party'})\n",
    "        .set_index('party')\n",
    "    )\n",
    "\n",
    "    return results\n",
    "\n",
    "# Returns metadata df\n",
    "def getResults(file, row):\n",
    "    md = pd.Series(file['currentResults'])\n",
    "    md.index.name = None\n",
    "    md = (\n",
    "        md.drop(\n",
    "            ['availableMandates', 'compensation', 'displayMessage', 'hasNoVoting', 'resultsParty',\n",
    "            'tie', 'tieMessage', 'totalBoycotts', 'totalForeignBoycotts', 'totalLocalBoycotts',\n",
    "            'totalMandates', 'totalParishesApproved', 'blankVotesPercentage', 'nullVotesPercentage', 'percentageVoters', 'numberParishes', 'totalVoters'])\n",
    "        .to_frame()\n",
    "        .T\n",
    "        .assign(territoryKey = row['territoryKey'])\n",
    "        .set_index('territoryKey')\n",
    "    )\n",
    "\n",
    "    r = getResultsTable(file).drop(['percentage', 'validVotesPercentage'], axis=1).T\n",
    "    r['territoryKey'] = row['territoryKey']\n",
    "    r.set_index('territoryKey', inplace=True)\n",
    "    r.columns.name = None\n",
    "\n",
    "    loc = (\n",
    "        pd.DataFrame(\n",
    "            [row['parish'], row['county'], row['district'], row['territoryKey']]\n",
    "            , index=['parish', 'county', 'district', 'territoryKey'])\n",
    "        .T\n",
    "        .set_index('territoryKey')\n",
    "    )\n",
    "\n",
    "    return r, md, loc\n",
    "\n",
    "# Creates CSV files\n",
    "def create_csv():\n",
    "    results = pd.DataFrame()\n",
    "    metadata = pd.DataFrame()\n",
    "    location = pd.DataFrame()\n",
    "\n",
    "    for i, row in codes.iterrows():\n",
    "        file = (\n",
    "            pd.read_csv(\n",
    "                'datasets/crawler/' + row['territoryKey']\n",
    "                .split('-')[0]\n",
    "                .capitalize() + '/' + row['district'] + '/' + row['county'] + '/' + row['parish'] + '.csv')\n",
    "            .set_index('index')\n",
    "        )\n",
    "\n",
    "        r, md, loc = getResults(file, row)\n",
    "\n",
    "        results = pd.concat([results, r])\n",
    "        metadata = pd.concat([metadata, md])\n",
    "        location = pd.concat([location, loc])\n",
    "\n",
    "    results = pd.concat([results, metadata], axis=1)\n",
    "\n",
    "    mkdir()\n",
    "\n",
    "    results.to_csv('datasets/results/results.csv')\n",
    "    location.to_csv('datasets/results/location.csv')\n",
    "\n",
    "# Creates directories\n",
    "def mkdir():\n",
    "    path = '/datasets/results/'\n",
    "\n",
    "    working_dir = os.getcwd()\n",
    "    newpath = working_dir + path\n",
    "\n",
    "    if not os.path.exists(newpath):\n",
    "        os.makedirs(newpath)\n",
    "\n",
    "# Returns resuts, metadata and location dfs\n",
    "def load_files():\n",
    "    results = pd.read_csv('datasets/results/results.csv').set_index('territoryKey')\n",
    "    location = pd.read_csv('datasets/results/location.csv').set_index('territoryKey')\n",
    "\n",
    "    return results, location\n",
    "\n",
    "# Saves to database\n",
    "def save_db(eng, results, location):\n",
    "    strmax = get_strmax(location)\n",
    "\n",
    "    results.to_sql(\n",
    "        'results',\n",
    "        con=eng,\n",
    "        if_exists='replace',\n",
    "        dtype={\n",
    "            'territoryKey': VARCHAR(strmax['territoryKey']),\n",
    "            'PPD/PSD.CDS-PP.PPM': Integer,\n",
    "            'PS': Integer,\n",
    "            'CH': Integer,\n",
    "            'B.E.': Integer,\n",
    "            'IL': Integer,\n",
    "            'ADN': Integer,\n",
    "            'L': Integer,\n",
    "            'PAN': Integer,\n",
    "            'PCP-PEV': Integer,\n",
    "            'VP': Integer,\n",
    "            'E': Integer,\n",
    "            'JPP': Integer,\n",
    "            'R.I.R.': Integer,\n",
    "            'ND': Integer,\n",
    "            'PCTP/MRPP': Integer,\n",
    "            'MPT.A': Integer,\n",
    "            'NC': Integer,\n",
    "            'PTP': Integer,\n",
    "            'PPD/PSD.CDS-PP': Integer,\n",
    "            'PPM': Integer,\n",
    "            'blankVotes': Integer,\n",
    "            'nullVotes': Integer,\n",
    "            'numberVoters': Integer,\n",
    "            'subscribedVoters': Integer\n",
    "        }\n",
    "    )\n",
    "    location.to_sql(\n",
    "        'location',\n",
    "        con=eng,\n",
    "        if_exists='replace',\n",
    "        dtype={\n",
    "            'territoryKey': VARCHAR(strmax['territoryKey']),\n",
    "            'parish': String(strmax['parish']),\n",
    "            'county': String(strmax['county']),\n",
    "            'district': String(strmax['district'])\n",
    "        }\n",
    "    )\n",
    "\n",
    "# Loads from database\n",
    "def load_db(eng):\n",
    "    results = pd.read_sql('SELECT * FROM results', eng).set_index('territoryKey')\n",
    "    location = pd.read_sql('SELECT * FROM location', eng).set_index('territoryKey')\n",
    "\n",
    "    return results, location\n",
    "\n",
    "# Returns max length of each column\n",
    "def get_strmax(location):\n",
    "    lcol, strmax = location.columns.tolist(), pd.Series()\n",
    "    strmax['territoryKey'] = location.index.str.len().max()\n",
    "    for col in lcol:\n",
    "        if location[col].dtype == 'object':\n",
    "            strmax[col] = location[col].str.len().max()\n",
    "\n",
    "    return strmax"
   ]
  },
  {
   "cell_type": "markdown",
   "metadata": {},
   "source": [
    "### Create Files and DBs"
   ]
  },
  {
   "cell_type": "markdown",
   "metadata": {},
   "source": [
    "##### Create Results CSV"
   ]
  },
  {
   "cell_type": "code",
   "execution_count": null,
   "metadata": {
    "notebookRunGroups": {
     "groupValue": "1"
    }
   },
   "outputs": [],
   "source": [
    "create_csv()"
   ]
  },
  {
   "cell_type": "markdown",
   "metadata": {},
   "source": [
    "##### SQL Database"
   ]
  },
  {
   "cell_type": "code",
   "execution_count": null,
   "metadata": {
    "notebookRunGroups": {
     "groupValue": "1"
    }
   },
   "outputs": [],
   "source": [
    "results, location = load_files()\n",
    "save_db(eng, results, location)"
   ]
  },
  {
   "cell_type": "code",
   "execution_count": null,
   "metadata": {
    "notebookRunGroups": {
     "groupValue": "2"
    }
   },
   "outputs": [],
   "source": [
    "results, location = load_db(eng)"
   ]
  }
 ],
 "metadata": {
  "kernelspec": {
   "display_name": "Python 3",
   "language": "python",
   "name": "python3"
  },
  "language_info": {
   "codemirror_mode": {
    "name": "ipython",
    "version": 3
   },
   "file_extension": ".py",
   "mimetype": "text/x-python",
   "name": "python",
   "nbconvert_exporter": "python",
   "pygments_lexer": "ipython3",
   "version": "3.11.9"
  }
 },
 "nbformat": 4,
 "nbformat_minor": 2
}
