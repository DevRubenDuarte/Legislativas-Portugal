{
 "cells": [
  {
   "cell_type": "markdown",
   "metadata": {},
   "source": [
    "### Setup"
   ]
  },
  {
   "cell_type": "code",
   "execution_count": 11,
   "metadata": {
    "notebookRunGroups": {
     "groupValue": "12"
    }
   },
   "outputs": [],
   "source": [
    "import pandas as pd\n",
    "import ast\n",
    "import os"
   ]
  },
  {
   "cell_type": "code",
   "execution_count": null,
   "metadata": {
    "notebookRunGroups": {
     "groupValue": "1"
    }
   },
   "outputs": [],
   "source": [
    "local = pd.read_csv('datasets/crawler/local_codes.csv')\n",
    "foreign = pd.read_csv('datasets/crawler/foreign_codes.csv')\n",
    "codes = (\n",
    "    pd.concat([local, foreign])\n",
    "    .rename(columns={'name': 'freguesia'})\n",
    "    .reset_index(drop=True)\n",
    ")"
   ]
  },
  {
   "cell_type": "markdown",
   "metadata": {},
   "source": [
    "### Methods"
   ]
  },
  {
   "cell_type": "code",
   "execution_count": null,
   "metadata": {
    "notebookRunGroups": {
     "groupValue": "1"
    }
   },
   "outputs": [],
   "source": [
    "# Returns resuts table df\n",
    "def getResultsTable(file):\n",
    "    resultsParty = file.loc['resultsParty', 'currentResults']\n",
    "\n",
    "    results = (\n",
    "        pd.DataFrame(ast.literal_eval(resultsParty))\n",
    "        .drop(['absoluteMajority', 'constituenctyCounter', 'imageKey', 'mandates', 'presidents'], axis=1)\n",
    "        .rename(columns={'acronym': 'party'})\n",
    "        .set_index('party')\n",
    "    )\n",
    "\n",
    "    return results\n",
    "\n",
    "# Returns metadata df\n",
    "def getResults(file, row):\n",
    "    md = pd.Series(file['currentResults'])\n",
    "    md.index.name = None\n",
    "    md = (\n",
    "        md.drop(\n",
    "            ['availableMandates', 'compensation', 'displayMessage', 'hasNoVoting', 'resultsParty'\n",
    "            , 'tie', 'tieMessage', 'totalBoycotts', 'totalForeignBoycotts', 'totalLocalBoycotts'\n",
    "            , 'totalMandates', 'totalParishesApproved'])\n",
    "        .to_frame()\n",
    "        .T\n",
    "        .assign(territoryKey = row['territoryKey'])\n",
    "        .set_index('territoryKey')\n",
    "    )\n",
    "    \n",
    "    loc = (\n",
    "        pd.DataFrame(\n",
    "            [row['parish'], row['county'], row['district'], row['territoryKey']]\n",
    "            , index=['parish', 'county', 'district', 'territoryKey'])\n",
    "        .T\n",
    "        .set_index('territoryKey')\n",
    "    )\n",
    "    \n",
    "    r = getResultsTable(file)\n",
    "    r['territoryKey'] = row['territoryKey']\n",
    "    r = r.reset_index().set_index(['territoryKey', 'party'])\n",
    "\n",
    "    return r, md, loc\n",
    "\n",
    "# Creates directories\n",
    "def mkdir():\n",
    "        path = '/datasets/results/' \n",
    "\n",
    "        working_dir = os.getcwd()\n",
    "        newpath = working_dir + path\n",
    "\n",
    "        if not os.path.exists(newpath):\n",
    "            os.makedirs(newpath)"
   ]
  },
  {
   "cell_type": "code",
   "execution_count": 12,
   "metadata": {
    "notebookRunGroups": {
     "groupValue": "2"
    }
   },
   "outputs": [],
   "source": [
    "def load_files():\n",
    "    results = pd.read_csv('datasets/results/results.csv').set_index(['territoryKey', 'party'])\n",
    "    metadata = pd.read_csv('datasets/results/metadata.csv').set_index('territoryKey')\n",
    "    location = pd.read_csv('datasets/results/location.csv').set_index('territoryKey')\n",
    "\n",
    "    return results, metadata, location"
   ]
  },
  {
   "cell_type": "markdown",
   "metadata": {},
   "source": [
    "#### Teste"
   ]
  },
  {
   "cell_type": "code",
   "execution_count": null,
   "metadata": {},
   "outputs": [],
   "source": [
    "# row = codes.iloc[0]\n",
    "# results = pd.DataFrame()\n",
    "# metadata = pd.DataFrame()\n",
    "# location = pd.DataFrame()\n",
    "\n",
    "# loc = row['territoryKey'].split('-')[0].capitalize()\n",
    "# file = (\n",
    "#     pd.read_csv('datasets/crawler/' + loc + '/' + row['district'] + '/' + row['county'] + '/' + row['parish'] + '.csv')\n",
    "#     .set_index('index')\n",
    "# )\n",
    "\n",
    "# md = pd.Series(file['currentResults'])\n",
    "# md.index.name = None\n",
    "# md = (\n",
    "#     md.drop(['availableMandates', 'compensation', 'displayMessage', 'hasNoVoting', 'resultsParty'\n",
    "#         , 'tie', 'tieMessage', 'totalBoycotts', 'totalForeignBoycotts', 'totalLocalBoycotts'\n",
    "#         , 'totalMandates', 'totalParishesApproved'])\n",
    "#     .to_frame()\n",
    "#     .T\n",
    "#     .assign(territoryKey = row['territoryKey'])\n",
    "#     .set_index('territoryKey')\n",
    "# )\n",
    "\n",
    "# md\n"
   ]
  },
  {
   "cell_type": "markdown",
   "metadata": {},
   "source": [
    "### Create Results files"
   ]
  },
  {
   "cell_type": "code",
   "execution_count": 2,
   "metadata": {
    "notebookRunGroups": {
     "groupValue": "1"
    }
   },
   "outputs": [
    {
     "ename": "NameError",
     "evalue": "name 'pd' is not defined",
     "output_type": "error",
     "traceback": [
      "\u001b[1;31m---------------------------------------------------------------------------\u001b[0m",
      "\u001b[1;31mNameError\u001b[0m                                 Traceback (most recent call last)",
      "Cell \u001b[1;32mIn[2], line 1\u001b[0m\n\u001b[1;32m----> 1\u001b[0m results \u001b[38;5;241m=\u001b[39m \u001b[43mpd\u001b[49m\u001b[38;5;241m.\u001b[39mDataFrame()\n\u001b[0;32m      2\u001b[0m metadata \u001b[38;5;241m=\u001b[39m pd\u001b[38;5;241m.\u001b[39mDataFrame()\n\u001b[0;32m      3\u001b[0m location \u001b[38;5;241m=\u001b[39m pd\u001b[38;5;241m.\u001b[39mDataFrame()\n",
      "\u001b[1;31mNameError\u001b[0m: name 'pd' is not defined"
     ]
    }
   ],
   "source": [
    "results = pd.DataFrame()\n",
    "metadata = pd.DataFrame()\n",
    "location = pd.DataFrame()\n",
    "\n",
    "for i, row in codes.iterrows():\n",
    "    file = (\n",
    "        pd.read_csv('datasets/crawler/' + row['territoryKey'].split('-')[0].capitalize() + '/' + row['district'] + '/' + row['county'] + '/' + row['parish'] + '.csv')\n",
    "        .set_index('index')\n",
    "    )\n",
    "    \n",
    "    r, md, loc = getResults(file, row)\n",
    "\n",
    "    results = pd.concat([results, r])    \n",
    "    metadata = pd.concat([metadata, md])\n",
    "    location = pd.concat([location, loc])"
   ]
  },
  {
   "cell_type": "code",
   "execution_count": null,
   "metadata": {
    "notebookRunGroups": {
     "groupValue": "1"
    }
   },
   "outputs": [],
   "source": [
    "mkdir()\n",
    "\n",
    "results.to_csv('datasets/results/results.csv')\n",
    "metadata.to_csv('datasets/results/metadata.csv')\n",
    "location.to_csv('datasets/results/location.csv')"
   ]
  },
  {
   "cell_type": "markdown",
   "metadata": {},
   "source": [
    "### Explore Data"
   ]
  },
  {
   "cell_type": "code",
   "execution_count": 30,
   "metadata": {
    "notebookRunGroups": {
     "groupValue": ""
    }
   },
   "outputs": [],
   "source": [
    "results, metadata, location = load_files()\n",
    "\n",
    "parties = results.index.unique(level='party')\n",
    "\n",
    "idx = pd.IndexSlice"
   ]
  },
  {
   "cell_type": "markdown",
   "metadata": {},
   "source": [
    "#### Exploration"
   ]
  },
  {
   "cell_type": "code",
   "execution_count": 33,
   "metadata": {},
   "outputs": [
    {
     "data": {
      "text/plain": [
       "array(['PPD/PSD.CDS-PP.PPM', 'PS', 'CH', 'B.E.', 'IL', 'ADN', 'L', 'PAN',\n",
       "       'PCP-PEV', 'VP', 'E', 'JPP', 'R.I.R.', 'ND', 'PCTP/MRPP', 'MPT.A',\n",
       "       'NC', 'PTP', 'PPD/PSD.CDS-PP', 'PPM'], dtype=object)"
      ]
     },
     "execution_count": 33,
     "metadata": {},
     "output_type": "execute_result"
    }
   ],
   "source": [
    "#results\n",
    "# metadata\n",
    "# location\n",
    "#parties"
   ]
  },
  {
   "cell_type": "code",
   "execution_count": 34,
   "metadata": {},
   "outputs": [
    {
     "name": "stderr",
     "output_type": "stream",
     "text": [
      "C:\\Users\\druid\\AppData\\Local\\Temp\\ipykernel_2648\\3641195549.py:1: PerformanceWarning: indexing past lexsort depth may impact performance.\n",
      "  results.loc['Angra (Sé)', 'PS']\n"
     ]
    },
    {
     "data": {
      "text/html": [
       "<div>\n",
       "<style scoped>\n",
       "    .dataframe tbody tr th:only-of-type {\n",
       "        vertical-align: middle;\n",
       "    }\n",
       "\n",
       "    .dataframe tbody tr th {\n",
       "        vertical-align: top;\n",
       "    }\n",
       "\n",
       "    .dataframe thead th {\n",
       "        text-align: right;\n",
       "    }\n",
       "</style>\n",
       "<table border=\"1\" class=\"dataframe\">\n",
       "  <thead>\n",
       "    <tr style=\"text-align: right;\">\n",
       "      <th></th>\n",
       "      <th></th>\n",
       "      <th>territoryKey</th>\n",
       "      <th>percentage</th>\n",
       "      <th>validVotesPercentage</th>\n",
       "      <th>votes</th>\n",
       "    </tr>\n",
       "    <tr>\n",
       "      <th>parish</th>\n",
       "      <th>party</th>\n",
       "      <th></th>\n",
       "      <th></th>\n",
       "      <th></th>\n",
       "      <th></th>\n",
       "    </tr>\n",
       "  </thead>\n",
       "  <tbody>\n",
       "    <tr>\n",
       "      <th>Angra (Sé)</th>\n",
       "      <th>PS</th>\n",
       "      <td>LOCAL-430105</td>\n",
       "      <td>24.88</td>\n",
       "      <td>25.54</td>\n",
       "      <td>153</td>\n",
       "    </tr>\n",
       "  </tbody>\n",
       "</table>\n",
       "</div>"
      ],
      "text/plain": [
       "                  territoryKey  percentage  validVotesPercentage  votes\n",
       "parish     party                                                       \n",
       "Angra (Sé) PS     LOCAL-430105       24.88                 25.54    153"
      ]
     },
     "execution_count": 34,
     "metadata": {},
     "output_type": "execute_result"
    }
   ],
   "source": [
    "results.loc['Angra (Sé)', 'PS']"
   ]
  },
  {
   "cell_type": "code",
   "execution_count": null,
   "metadata": {},
   "outputs": [],
   "source": [
    "# Results by Party\n",
    "# for i, party in parties:\n",
    "#     results.loc[idx[:, party], idx[:]]"
   ]
  },
  {
   "cell_type": "markdown",
   "metadata": {},
   "source": [
    "## Database"
   ]
  },
  {
   "cell_type": "code",
   "execution_count": 13,
   "metadata": {
    "notebookRunGroups": {
     "groupValue": "2"
    }
   },
   "outputs": [],
   "source": [
    "# Send to SQL\n",
    "from dotenv import load_dotenv\n",
    "from sqlalchemy import (create_engine, Table, Column, Integer, String, MetaData)"
   ]
  },
  {
   "cell_type": "code",
   "execution_count": 14,
   "metadata": {
    "notebookRunGroups": {
     "groupValue": "2"
    }
   },
   "outputs": [],
   "source": [
    "load_dotenv()\n",
    "user = os.getenv('USER')\n",
    "password = os.getenv('PW')\n",
    "\n",
    "results, metadata, location = load_files()\n",
    "\n",
    "con = (\n",
    "    create_engine('mysql+pymysql://' + user + ':' + password + '@localhost/legislativas', pool_recycle=3600)\n",
    "    .connect()\n",
    ")"
   ]
  },
  {
   "cell_type": "markdown",
   "metadata": {},
   "source": [
    "### Old"
   ]
  },
  {
   "cell_type": "code",
   "execution_count": 9,
   "metadata": {},
   "outputs": [
    {
     "data": {
      "text/plain": [
       "<sqlalchemy.engine.cursor.CursorResult at 0x1fdf4428280>"
      ]
     },
     "execution_count": 9,
     "metadata": {},
     "output_type": "execute_result"
    }
   ],
   "source": [
    "# from sqlalchemy.sql import text\n",
    "\n",
    "# con.execute(text('DROP TABLE IF EXISTS results, metadata, location;'))\n",
    "# con.execute(text('''CREATE TABLE results(\n",
    "#                                 territoryKey VARCHAR(16) PRIMARY KEY, \n",
    "#                                 party TEXT, \n",
    "#                                 percentage INTEGER,\n",
    "#                                 validVotesPercentage INTEGER,\n",
    "#                                 votes INTEGER\n",
    "# )'''))\n",
    "# con.execute(text('''CREATE TABLE metadata(\n",
    "#                                 territoryKey VARCHAR(16) PRIMARY KEY, \n",
    "#                                 blankVotes INTEGER, \n",
    "#                                 blankVotesPercentage INTEGER,\n",
    "#                                 nullVotes INTEGER,\n",
    "#                                 nullVotesPercentage INTEGER,\n",
    "#                                 numberParishes INTEGER,\n",
    "#                                 numberVoters INTEGER,\n",
    "#                                 percentageVoters INTEGER,\n",
    "#                                 subscribedVoters INTEGER,\n",
    "#                                 totalVoters INTEGER\n",
    "# )'''))\n",
    "# con.execute(text('''CREATE TABLE location(\n",
    "#                                 territoryKey VARCHAR(16) PRIMARY KEY, \n",
    "#                                 parish TEXT, \n",
    "#                                 county TEXT,\n",
    "#                                 district TEXT\n",
    "# )'''))"
   ]
  },
  {
   "cell_type": "markdown",
   "metadata": {},
   "source": [
    "### Table creation"
   ]
  },
  {
   "cell_type": "code",
   "execution_count": 15,
   "metadata": {
    "notebookRunGroups": {
     "groupValue": "2"
    }
   },
   "outputs": [],
   "source": [
    "meta = MetaData()\n",
    "resultsTable = Table('results', meta,\n",
    "    Column('territoryKey', String(16), primary_key=True),\n",
    "    Column('party', String(16)),\n",
    "    Column('percentage', Integer),\n",
    "    Column('validVotesPercentage', Integer),\n",
    "    Column('votes', Integer)\n",
    ")\n",
    "metadataTable = Table('metadata', meta,\n",
    "    Column('territoryKey', String(16), primary_key=True),\n",
    "    Column('blankVotes', Integer),\n",
    "    Column('blankVotesPercentage', Integer),\n",
    "    Column('nullVotes', Integer),\n",
    "    Column('nullVotesPercentage', Integer),\n",
    "    Column('numberParishes', Integer),\n",
    "    Column('numberVoters', Integer),\n",
    "    Column('percentageVoters', Integer),\n",
    "    Column('subscribedVoters', Integer),\n",
    "    Column('totalVoters', Integer)\n",
    ")\n",
    "locationTable = Table('location', meta,\n",
    "    Column('territoryKey', String(16), primary_key=True),\n",
    "    Column('parish', String),\n",
    "    Column('county', String),\n",
    "    Column('district', String)\n",
    ")"
   ]
  },
  {
   "cell_type": "code",
   "execution_count": 18,
   "metadata": {},
   "outputs": [
    {
     "data": {
      "text/plain": [
       "Table('results', MetaData(), Column('territoryKey', String(length=16), table=<results>, primary_key=True, nullable=False), Column('party', String(length=16), table=<results>), Column('percentage', Integer(), table=<results>), Column('validVotesPercentage', Integer(), table=<results>), Column('votes', Integer(), table=<results>), schema=None)"
      ]
     },
     "execution_count": 18,
     "metadata": {},
     "output_type": "execute_result"
    }
   ],
   "source": [
    "resultsTable"
   ]
  }
 ],
 "metadata": {
  "kernelspec": {
   "display_name": "Python 3",
   "language": "python",
   "name": "python3"
  },
  "language_info": {
   "codemirror_mode": {
    "name": "ipython",
    "version": 3
   },
   "file_extension": ".py",
   "mimetype": "text/x-python",
   "name": "python",
   "nbconvert_exporter": "python",
   "pygments_lexer": "ipython3",
   "version": "3.11.9"
  }
 },
 "nbformat": 4,
 "nbformat_minor": 2
}
