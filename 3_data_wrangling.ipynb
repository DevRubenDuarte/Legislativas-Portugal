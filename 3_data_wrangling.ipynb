{
 "cells": [
  {
   "cell_type": "markdown",
   "metadata": {},
   "source": [
    "### Setup"
   ]
  },
  {
   "cell_type": "code",
   "execution_count": 1,
   "metadata": {},
   "outputs": [],
   "source": [
    "import pandas as pd\n",
    "import ast"
   ]
  },
  {
   "cell_type": "code",
   "execution_count": 2,
   "metadata": {},
   "outputs": [],
   "source": [
    "local = pd.read_csv('datasets/territory_codes_local.csv')\n",
    "foreign = pd.read_csv('datasets/territory_codes_foreign.csv')\n",
    "codes = (\n",
    "    pd.concat([local, foreign])\n",
    "    .rename(columns={'name': 'freguesia'})\n",
    "    .reset_index(drop=True)\n",
    ")\n",
    "\n",
    "results = False"
   ]
  },
  {
   "cell_type": "markdown",
   "metadata": {},
   "source": [
    "### Methods"
   ]
  },
  {
   "cell_type": "code",
   "execution_count": 16,
   "metadata": {},
   "outputs": [],
   "source": [
    "def getResultsTable(file):\n",
    "    resultsParty = file.loc['resultsParty', 'currentResults']\n",
    "\n",
    "    results = (\n",
    "        pd.DataFrame(ast.literal_eval(resultsParty))\n",
    "        .drop(['absoluteMajority', 'constituenctyCounter', 'imageKey', 'mandates', 'presidents'], axis=1)\n",
    "        .set_index('acronym')\n",
    "    )\n",
    "\n",
    "    return results\n",
    "\n",
    "def getMetadata(file):\n",
    "    metadata = ( \n",
    "        # *idea: check displayMessage and whatever else for error messages to print\n",
    "\n",
    "        file.drop(['currentResults', 'displayMessage', 'foreignCounterMessage', 'nationalCounterMessage'\n",
    "                    , 'previousResults', 'refreshTimeout'], axis=1)\n",
    "        .loc['availableMandates', :]\n",
    "    )\n",
    "\n",
    "    return metadata\n",
    "\n",
    "def getResults(file):\n",
    "    r = getResultsTable(file)\n",
    "    metadata = getMetadata(file)\n",
    "    r['tkey'] = metadata['territoryKey']\n",
    "    r['parish'] = metadata['territoryFullName']\n",
    "\n",
    "    r = r.reset_index().set_index(['parish', 'acronym'])\n",
    "\n",
    "    return r"
   ]
  },
  {
   "cell_type": "markdown",
   "metadata": {},
   "source": [
    "### Testing"
   ]
  },
  {
   "cell_type": "code",
   "execution_count": 4,
   "metadata": {},
   "outputs": [],
   "source": [
    "file1 = ( #hardcoded for testing\n",
    "    pd.read_csv('datasets\\\\Local\\\\Açores\\\\Angra do Heroísmo\\\\Altares.csv')\n",
    "    .set_index('index')\n",
    ")\n",
    "file2 = (\n",
    "    pd.read_csv('datasets\\\\Local\\\\Açores\\\\Angra do Heroísmo\\\\Angra (Nossa Senhora da Conceição).csv')\n",
    "    .set_index('index')\n",
    ")"
   ]
  },
  {
   "cell_type": "markdown",
   "metadata": {},
   "source": [
    "#### Tentatively create MultiIndex from location\n"
   ]
  },
  {
   "cell_type": "markdown",
   "metadata": {},
   "source": [
    "Scrapped due to being too heavy in computation"
   ]
  },
  {
   "cell_type": "code",
   "execution_count": 5,
   "metadata": {},
   "outputs": [],
   "source": [
    "# cutCodes1  = codes.iloc[0:1000].drop(['territoryKey'], axis=1)\n",
    "# cutCodes2  = codes.iloc[1001:2000].drop(['territoryKey'], axis=1)\n",
    "# cutCodes3  = codes.iloc[2001:].drop(['territoryKey'], axis=1)"
   ]
  },
  {
   "cell_type": "code",
   "execution_count": 6,
   "metadata": {},
   "outputs": [],
   "source": [
    "# index1 = pd.MultiIndex.from_product([cutCodes1.distrito, cutCodes1.concelho, cutCodes1.freguesia], names=['distrito', 'concelho', 'freguesia'])"
   ]
  },
  {
   "cell_type": "code",
   "execution_count": 7,
   "metadata": {},
   "outputs": [],
   "source": [
    "# index2 = pd.MultiIndex.from_product([cutCodes2.distrito, cutCodes2.concelho, cutCodes2.freguesia], names=['distrito', 'concelho', 'freguesia'])"
   ]
  },
  {
   "cell_type": "code",
   "execution_count": 8,
   "metadata": {},
   "outputs": [],
   "source": [
    "# index3 = pd.MultiIndex.from_product([cutCodes3.distrito, cutCodes3.concelho, cutCodes3.freguesia], names=['distrito', 'concelho', 'freguesia'])"
   ]
  },
  {
   "cell_type": "code",
   "execution_count": 9,
   "metadata": {},
   "outputs": [],
   "source": [
    "# index = pd.MultiIndex.append(index1, index2)"
   ]
  },
  {
   "cell_type": "code",
   "execution_count": 10,
   "metadata": {},
   "outputs": [],
   "source": [
    "# index = index.append(index3)"
   ]
  },
  {
   "cell_type": "markdown",
   "metadata": {},
   "source": [
    "#### Testing cont"
   ]
  },
  {
   "cell_type": "code",
   "execution_count": 25,
   "metadata": {},
   "outputs": [],
   "source": [
    "for i, row in codes.iterrows():\n",
    "    loc = row['territoryKey'].split('-')[0].capitalize()\n",
    "    file = (\n",
    "        pd.read_csv('datasets\\\\' + loc + '\\\\' + row['distrito'] + '\\\\' + row['concelho'] + '\\\\' + row['freguesia'] + '.csv')\n",
    "        .set_index('index')\n",
    "    )\n",
    "    results = pd.concat([results, getResults(file)])"
   ]
  },
  {
   "cell_type": "code",
   "execution_count": 31,
   "metadata": {},
   "outputs": [
    {
     "data": {
      "text/html": [
       "<div>\n",
       "<style scoped>\n",
       "    .dataframe tbody tr th:only-of-type {\n",
       "        vertical-align: middle;\n",
       "    }\n",
       "\n",
       "    .dataframe tbody tr th {\n",
       "        vertical-align: top;\n",
       "    }\n",
       "\n",
       "    .dataframe thead th {\n",
       "        text-align: right;\n",
       "    }\n",
       "</style>\n",
       "<table border=\"1\" class=\"dataframe\">\n",
       "  <thead>\n",
       "    <tr style=\"text-align: right;\">\n",
       "      <th></th>\n",
       "      <th></th>\n",
       "      <th>percentage</th>\n",
       "      <th>validVotesPercentage</th>\n",
       "      <th>votes</th>\n",
       "      <th>tkey</th>\n",
       "    </tr>\n",
       "    <tr>\n",
       "      <th>parish</th>\n",
       "      <th>acronym</th>\n",
       "      <th></th>\n",
       "      <th></th>\n",
       "      <th></th>\n",
       "      <th></th>\n",
       "    </tr>\n",
       "  </thead>\n",
       "  <tbody>\n",
       "    <tr>\n",
       "      <th rowspan=\"5\" valign=\"top\">Altares</th>\n",
       "      <th>PPD/PSD.CDS-PP.PPM</th>\n",
       "      <td>43.17</td>\n",
       "      <td>44.72</td>\n",
       "      <td>199</td>\n",
       "      <td>LOCAL-430101</td>\n",
       "    </tr>\n",
       "    <tr>\n",
       "      <th>PS</th>\n",
       "      <td>34.27</td>\n",
       "      <td>35.51</td>\n",
       "      <td>158</td>\n",
       "      <td>LOCAL-430101</td>\n",
       "    </tr>\n",
       "    <tr>\n",
       "      <th>CH</th>\n",
       "      <td>12.15</td>\n",
       "      <td>12.58</td>\n",
       "      <td>56</td>\n",
       "      <td>LOCAL-430101</td>\n",
       "    </tr>\n",
       "    <tr>\n",
       "      <th>B.E.</th>\n",
       "      <td>2.17</td>\n",
       "      <td>2.25</td>\n",
       "      <td>10</td>\n",
       "      <td>LOCAL-430101</td>\n",
       "    </tr>\n",
       "    <tr>\n",
       "      <th>IL</th>\n",
       "      <td>1.95</td>\n",
       "      <td>2.02</td>\n",
       "      <td>9</td>\n",
       "      <td>LOCAL-430101</td>\n",
       "    </tr>\n",
       "    <tr>\n",
       "      <th>...</th>\n",
       "      <th>...</th>\n",
       "      <td>...</td>\n",
       "      <td>...</td>\n",
       "      <td>...</td>\n",
       "      <td>...</td>\n",
       "    </tr>\n",
       "    <tr>\n",
       "      <th rowspan=\"5\" valign=\"top\">Restantes Postos Consulares Dos Países da Ásia e Oceânia</th>\n",
       "      <th>JPP</th>\n",
       "      <td>0.22</td>\n",
       "      <td>0.33</td>\n",
       "      <td>13</td>\n",
       "      <td>FOREIGN-939999</td>\n",
       "    </tr>\n",
       "    <tr>\n",
       "      <th>MPT.A</th>\n",
       "      <td>0.17</td>\n",
       "      <td>0.26</td>\n",
       "      <td>10</td>\n",
       "      <td>FOREIGN-939999</td>\n",
       "    </tr>\n",
       "    <tr>\n",
       "      <th>ND</th>\n",
       "      <td>0.13</td>\n",
       "      <td>0.21</td>\n",
       "      <td>8</td>\n",
       "      <td>FOREIGN-939999</td>\n",
       "    </tr>\n",
       "    <tr>\n",
       "      <th>R.I.R.</th>\n",
       "      <td>0.12</td>\n",
       "      <td>0.18</td>\n",
       "      <td>7</td>\n",
       "      <td>FOREIGN-939999</td>\n",
       "    </tr>\n",
       "    <tr>\n",
       "      <th>E</th>\n",
       "      <td>0.08</td>\n",
       "      <td>0.13</td>\n",
       "      <td>5</td>\n",
       "      <td>FOREIGN-939999</td>\n",
       "    </tr>\n",
       "  </tbody>\n",
       "</table>\n",
       "<p>91472 rows × 4 columns</p>\n",
       "</div>"
      ],
      "text/plain": [
       "                                                                       percentage  \\\n",
       "parish                                             acronym                          \n",
       "Altares                                            PPD/PSD.CDS-PP.PPM       43.17   \n",
       "                                                   PS                       34.27   \n",
       "                                                   CH                       12.15   \n",
       "                                                   B.E.                      2.17   \n",
       "                                                   IL                        1.95   \n",
       "...                                                                           ...   \n",
       "Restantes Postos Consulares Dos Países da Ásia ... JPP                       0.22   \n",
       "                                                   MPT.A                     0.17   \n",
       "                                                   ND                        0.13   \n",
       "                                                   R.I.R.                    0.12   \n",
       "                                                   E                         0.08   \n",
       "\n",
       "                                                                       validVotesPercentage  \\\n",
       "parish                                             acronym                                    \n",
       "Altares                                            PPD/PSD.CDS-PP.PPM                 44.72   \n",
       "                                                   PS                                 35.51   \n",
       "                                                   CH                                 12.58   \n",
       "                                                   B.E.                                2.25   \n",
       "                                                   IL                                  2.02   \n",
       "...                                                                                     ...   \n",
       "Restantes Postos Consulares Dos Países da Ásia ... JPP                                 0.33   \n",
       "                                                   MPT.A                               0.26   \n",
       "                                                   ND                                  0.21   \n",
       "                                                   R.I.R.                              0.18   \n",
       "                                                   E                                   0.13   \n",
       "\n",
       "                                                                       votes  \\\n",
       "parish                                             acronym                     \n",
       "Altares                                            PPD/PSD.CDS-PP.PPM    199   \n",
       "                                                   PS                    158   \n",
       "                                                   CH                     56   \n",
       "                                                   B.E.                   10   \n",
       "                                                   IL                      9   \n",
       "...                                                                      ...   \n",
       "Restantes Postos Consulares Dos Países da Ásia ... JPP                    13   \n",
       "                                                   MPT.A                  10   \n",
       "                                                   ND                      8   \n",
       "                                                   R.I.R.                  7   \n",
       "                                                   E                       5   \n",
       "\n",
       "                                                                                 tkey  \n",
       "parish                                             acronym                             \n",
       "Altares                                            PPD/PSD.CDS-PP.PPM    LOCAL-430101  \n",
       "                                                   PS                    LOCAL-430101  \n",
       "                                                   CH                    LOCAL-430101  \n",
       "                                                   B.E.                  LOCAL-430101  \n",
       "                                                   IL                    LOCAL-430101  \n",
       "...                                                                               ...  \n",
       "Restantes Postos Consulares Dos Países da Ásia ... JPP                 FOREIGN-939999  \n",
       "                                                   MPT.A               FOREIGN-939999  \n",
       "                                                   ND                  FOREIGN-939999  \n",
       "                                                   R.I.R.              FOREIGN-939999  \n",
       "                                                   E                   FOREIGN-939999  \n",
       "\n",
       "[91472 rows x 4 columns]"
      ]
     },
     "execution_count": 31,
     "metadata": {},
     "output_type": "execute_result"
    }
   ],
   "source": [
    "results\n"
   ]
  }
 ],
 "metadata": {
  "kernelspec": {
   "display_name": "Python 3",
   "language": "python",
   "name": "python3"
  },
  "language_info": {
   "codemirror_mode": {
    "name": "ipython",
    "version": 3
   },
   "file_extension": ".py",
   "mimetype": "text/x-python",
   "name": "python",
   "nbconvert_exporter": "python",
   "pygments_lexer": "ipython3",
   "version": "3.12.2"
  }
 },
 "nbformat": 4,
 "nbformat_minor": 2
}
